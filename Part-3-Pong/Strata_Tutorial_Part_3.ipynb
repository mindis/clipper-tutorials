{
 "cells": [
  {
   "cell_type": "markdown",
   "metadata": {},
   "source": [
    "# Tutorial 3: Clipper in Action with Pong"
   ]
  },
  {
   "cell_type": "markdown",
   "metadata": {},
   "source": [
    "We have already explored some of the features of Clipper (insert recap here). Now let's take a look at Clipper in action with Pong! Released by Atari in 1972, Pong was the first commercially successful video game. You can read more about it <a href=\"https://en.wikipedia.org/wiki/Pong\">here</a>\n",
    "\n",
    "The goal of this tutorial is to use Clipper to deploy several AI policies to play against, and in doing so explore:\n",
    "1. Deploy models trained in your choice of framework to Clipper with a few lines of code by using an existing model container or writing your own\n",
    "2. Easily update or roll back models in running applications\n",
    "3. Run each model in a separate Docker container for simple cluster management and resource allocation\n",
    "\n",
    "This tutorial will be broken up into 3 main parts:\n",
    "#### 1. Starting Clipper and Deploying First Policy\n",
    "#### 2. Training a Better Model\n",
    "#### 3. Deploying an updated, trained model"
   ]
  },
  {
   "cell_type": "markdown",
   "metadata": {},
   "source": [
    "## Part 1: Starting Clipper and Deploying First Policy"
   ]
  },
  {
   "cell_type": "markdown",
   "metadata": {},
   "source": [
    "Install packaged env from requirements.txt (not sure if we should do this before opening jupyter notebook or not)"
   ]
  },
  {
   "cell_type": "code",
   "execution_count": 11,
   "metadata": {},
   "outputs": [],
   "source": [
    "#Import dependencies\n",
    "from clipper_admin import ClipperConnection, DockerContainerManager\n",
    "from clipper_admin.deployers import python as py_deployer\n",
    "import random\n",
    "import numpy as np\n",
    "import pandas as pd\n",
    "from sklearn import linear_model"
   ]
  },
  {
   "cell_type": "markdown",
   "metadata": {},
   "source": [
    "Our first step is to get Clipper started and deploy our first AI policy: one that guesses which direction to move the paddle randomly. First, make sure Docker is running.\n",
    "\n",
    "The cell below will start Clipper. You can run docker ps in your bash to see the Clipper Docker containers"
   ]
  },
  {
   "cell_type": "code",
   "execution_count": 2,
   "metadata": {},
   "outputs": [
    {
     "name": "stderr",
     "output_type": "stream",
     "text": [
      "18-09-06:22:05:52 INFO     [clipper_admin.py:1258] Stopped all Clipper cluster and all model containers\n",
      "18-09-06:22:05:52 INFO     [docker_container_manager.py:119] Starting managed Redis instance in Docker\n",
      "18-09-06:22:05:54 INFO     [clipper_admin.py:126] Clipper is running\n"
     ]
    }
   ],
   "source": [
    "#Starting Clipper, make sure you have Docker running before you run this cell\n",
    "clipper_conn = ClipperConnection(DockerContainerManager())\n",
    "clipper_conn.stop_all()\n",
    "clipper_conn.start_clipper()"
   ]
  },
  {
   "cell_type": "markdown",
   "metadata": {},
   "source": [
    "Running the cell below will register an application in Clipper called \"pong\" and create a Clipper endpoint for our random policy at http://localhost:1337/pong/predict"
   ]
  },
  {
   "cell_type": "code",
   "execution_count": 3,
   "metadata": {},
   "outputs": [
    {
     "name": "stderr",
     "output_type": "stream",
     "text": [
      "18-09-06:22:06:15 INFO     [clipper_admin.py:201] Application pong was successfully registered\n",
      "18-09-06:22:06:15 INFO     [deployer_utils.py:44] Saving function to /tmp/clipper/tmpkzpv4zyt\n",
      "18-09-06:22:06:15 INFO     [deployer_utils.py:54] Serialized and supplied predict function\n",
      "18-09-06:22:06:15 INFO     [python.py:192] Python closure saved\n",
      "18-09-06:22:06:15 INFO     [python.py:206] Using Python 3.6 base image\n",
      "18-09-06:22:06:15 INFO     [clipper_admin.py:452] Building model Docker image with model data from /tmp/clipper/tmpkzpv4zyt\n",
      "18-09-06:22:06:15 INFO     [clipper_admin.py:456] {'stream': 'Step 1/2 : FROM clipper/python36-closure-container:0.3.0'}\n",
      "18-09-06:22:06:15 INFO     [clipper_admin.py:456] {'stream': '\\n'}\n",
      "18-09-06:22:06:15 INFO     [clipper_admin.py:456] {'stream': ' ---> 74ba26b9a6ba\\n'}\n",
      "18-09-06:22:06:15 INFO     [clipper_admin.py:456] {'stream': 'Step 2/2 : COPY /tmp/clipper/tmpkzpv4zyt /model/'}\n",
      "18-09-06:22:06:15 INFO     [clipper_admin.py:456] {'stream': '\\n'}\n",
      "18-09-06:22:06:15 INFO     [clipper_admin.py:456] {'stream': ' ---> 2925e83939a0\\n'}\n",
      "18-09-06:22:06:15 INFO     [clipper_admin.py:456] {'aux': {'ID': 'sha256:2925e83939a04645404054bb82788e27d213d3af729d6dfc3a89e7acede43525'}}\n",
      "18-09-06:22:06:15 INFO     [clipper_admin.py:456] {'stream': 'Successfully built 2925e83939a0\\n'}\n",
      "18-09-06:22:06:15 INFO     [clipper_admin.py:456] {'stream': 'Successfully tagged pong:1\\n'}\n",
      "18-09-06:22:06:15 INFO     [clipper_admin.py:458] Pushing model Docker image to pong:1\n",
      "18-09-06:22:06:16 INFO     [docker_container_manager.py:257] Found 0 replicas for pong:1. Adding 1\n",
      "18-09-06:22:06:23 INFO     [clipper_admin.py:635] Successfully registered model pong:1\n",
      "18-09-06:22:06:23 INFO     [clipper_admin.py:553] Done deploying model pong:1.\n",
      "18-09-06:22:06:23 INFO     [clipper_admin.py:263] Model pong is now linked to application pong\n"
     ]
    }
   ],
   "source": [
    "def random_predict(xs):\n",
    "    '''Deploy a policy that returns a random choice from 0, 1, or 2.\n",
    "    Remember that Clipper requires the output of the predict function to be a list of string objects'''\n",
    "    action = random.randint(..., ...)\n",
    "    return [...(action) for _ in xs]\n",
    "\n",
    "py_deployer.create_endpoint(clipper_conn, name=\"pong\", input_type=\"doubles\", func=random_predict,\n",
    "                            default_output=\"0\", slo_micros=100000)"
   ]
  },
  {
   "cell_type": "markdown",
   "metadata": {},
   "source": [
    "```python\n",
    "def random_predict(xs):\n",
    "    action = random.randint(0, 2)\n",
    "    return [str(action) for _ in xs]\n",
    "\n",
    "py_deployer.create_endpoint(clipper_conn, name=\"pong\", input_type=\"doubles\", func=random_predict,\n",
    "                            default_output=\"0\", slo_micros=100000)\n",
    "```"
   ]
  },
  {
   "cell_type": "markdown",
   "metadata": {},
   "source": [
    "Now that we have a model deployed, let's see how it works! Run the cell below to start the game"
   ]
  },
  {
   "cell_type": "code",
   "execution_count": 4,
   "metadata": {},
   "outputs": [],
   "source": [
    "from subprocess import Popen, PIPE\n",
    "\n",
    "server_proc = Popen([\"python\", \"pong-server/pong-server.py\", \"localhost:1337\", \"pong_server.log\"], stdout=PIPE)"
   ]
  },
  {
   "cell_type": "markdown",
   "metadata": {},
   "source": [
    "Congratulations! We have depolyed our first model to Clipper! Let's take a look at it by clicking the link below and pressing 1 to start the game.\n",
    "\n",
    "\n",
    "\n"
   ]
  },
  {
   "cell_type": "code",
   "execution_count": 5,
   "metadata": {},
   "outputs": [
    {
     "name": "stdout",
     "output_type": "stream",
     "text": [
      "\n",
      "http://54.185.103.0:4000/pong/\n",
      "\n"
     ]
    }
   ],
   "source": [
    "import requests\n",
    "\n",
    "print(f\"\"\"\n",
    "http://{requests.get('http://ip.42.pl/raw').text}:4000/pong/\n",
    "\"\"\")"
   ]
  },
  {
   "cell_type": "code",
   "execution_count": null,
   "metadata": {},
   "outputs": [],
   "source": [
    "# server_proc.terminate()"
   ]
  },
  {
   "cell_type": "markdown",
   "metadata": {},
   "source": [
    "## Part 2: Training a better model"
   ]
  },
  {
   "cell_type": "markdown",
   "metadata": {},
   "source": [
    "As you probably noticed, the random-guessing policy did not perform well at all. In order to train a better model, we are going to use imitation learning. Let's play the game again, this time with 2 actual players, and we will collect data on how you play the game to train our model! "
   ]
  },
  {
   "cell_type": "markdown",
   "metadata": {},
   "source": [
    "Go to http://localhost:4000/pong/ and press 2. Find someone next to you and play pong against them!!"
   ]
  },
  {
   "cell_type": "markdown",
   "metadata": {},
   "source": [
    "<b>Part to collect data into a output.csv --> currently doing this in really hacky way to just get it to work, but trying to figure out better solution</b>"
   ]
  },
  {
   "cell_type": "markdown",
   "metadata": {},
   "source": [
    "Now that we have our data, lets train a new model! First, run the cell below to clean the data and format it for scikit-learn's LogisticRegression model."
   ]
  },
  {
   "cell_type": "code",
   "execution_count": 6,
   "metadata": {},
   "outputs": [
    {
     "data": {
      "text/html": [
       "<div>\n",
       "<style scoped>\n",
       "    .dataframe tbody tr th:only-of-type {\n",
       "        vertical-align: middle;\n",
       "    }\n",
       "\n",
       "    .dataframe tbody tr th {\n",
       "        vertical-align: top;\n",
       "    }\n",
       "\n",
       "    .dataframe thead th {\n",
       "        text-align: right;\n",
       "    }\n",
       "</style>\n",
       "<table border=\"1\" class=\"dataframe\">\n",
       "  <thead>\n",
       "    <tr style=\"text-align: right;\">\n",
       "      <th></th>\n",
       "      <th>label</th>\n",
       "      <th>paddle_y</th>\n",
       "      <th>ball_x</th>\n",
       "      <th>ball_y</th>\n",
       "      <th>ball_dx</th>\n",
       "      <th>ball_dy</th>\n",
       "      <th>x_prev</th>\n",
       "      <th>y_prev</th>\n",
       "    </tr>\n",
       "  </thead>\n",
       "  <tbody>\n",
       "    <tr>\n",
       "      <th>0</th>\n",
       "      <td>0</td>\n",
       "      <td>0.381588</td>\n",
       "      <td>0.740669</td>\n",
       "      <td>0.213131</td>\n",
       "      <td>0.350152</td>\n",
       "      <td>-0.350152</td>\n",
       "      <td>0.723881</td>\n",
       "      <td>0.229883</td>\n",
       "    </tr>\n",
       "    <tr>\n",
       "      <th>1</th>\n",
       "      <td>1</td>\n",
       "      <td>0.381588</td>\n",
       "      <td>0.777524</td>\n",
       "      <td>0.176366</td>\n",
       "      <td>0.351832</td>\n",
       "      <td>-0.351832</td>\n",
       "      <td>0.758548</td>\n",
       "      <td>0.195295</td>\n",
       "    </tr>\n",
       "    <tr>\n",
       "      <th>2</th>\n",
       "      <td>0</td>\n",
       "      <td>0.420792</td>\n",
       "      <td>0.812433</td>\n",
       "      <td>0.141534</td>\n",
       "      <td>0.353416</td>\n",
       "      <td>-0.353416</td>\n",
       "      <td>0.794430</td>\n",
       "      <td>0.159496</td>\n",
       "    </tr>\n",
       "    <tr>\n",
       "      <th>3</th>\n",
       "      <td>2</td>\n",
       "      <td>0.420792</td>\n",
       "      <td>0.847855</td>\n",
       "      <td>0.106193</td>\n",
       "      <td>0.355016</td>\n",
       "      <td>-0.355016</td>\n",
       "      <td>0.829062</td>\n",
       "      <td>0.124941</td>\n",
       "    </tr>\n",
       "    <tr>\n",
       "      <th>4</th>\n",
       "      <td>0</td>\n",
       "      <td>0.381192</td>\n",
       "      <td>0.883437</td>\n",
       "      <td>0.070691</td>\n",
       "      <td>0.356616</td>\n",
       "      <td>-0.356616</td>\n",
       "      <td>0.865982</td>\n",
       "      <td>0.088108</td>\n",
       "    </tr>\n",
       "  </tbody>\n",
       "</table>\n",
       "</div>"
      ],
      "text/plain": [
       "   label  paddle_y    ball_x    ball_y   ball_dx   ball_dy    x_prev    y_prev\n",
       "0      0  0.381588  0.740669  0.213131  0.350152 -0.350152  0.723881  0.229883\n",
       "1      1  0.381588  0.777524  0.176366  0.351832 -0.351832  0.758548  0.195295\n",
       "2      0  0.420792  0.812433  0.141534  0.353416 -0.353416  0.794430  0.159496\n",
       "3      2  0.420792  0.847855  0.106193  0.355016 -0.355016  0.829062  0.124941\n",
       "4      0  0.381192  0.883437  0.070691  0.356616 -0.356616  0.865982  0.088108"
      ]
     },
     "execution_count": 6,
     "metadata": {},
     "output_type": "execute_result"
    }
   ],
   "source": [
    "df_data = pd.read_csv('out.csv')\n",
    "df_data.columns = [\"label\",\"paddle_y\",\"ball_x\",\"ball_y\",\"ball_dx\",\"ball_dy\",\"x_prev\",\"y_prev\"]\n",
    "\n",
    "def convert_label(label):\n",
    "    \"\"\"Convert labels into numeric values\"\"\"\n",
    "    if(label==\"down\"):\n",
    "        return 1\n",
    "    elif(label==\"up\"):\n",
    "        return 2\n",
    "    else:\n",
    "        return 0\n",
    "\n",
    "df_data['label'] = df_data['label'].apply(convert_label)\n",
    "df_data.loc[:, \"paddle_y\":\"y_prev\"] = df_data.loc[:, \"paddle_y\":\"y_prev\"]/500.0\n",
    "\n",
    "df_data.head()"
   ]
  },
  {
   "cell_type": "code",
   "execution_count": 8,
   "metadata": {},
   "outputs": [
    {
     "data": {
      "text/plain": [
       "1568"
      ]
     },
     "execution_count": 8,
     "metadata": {},
     "output_type": "execute_result"
    }
   ],
   "source": [
    "df_data.size"
   ]
  },
  {
   "cell_type": "markdown",
   "metadata": {},
   "source": [
    "We are going to use the data to train a scikit-learn Logistic Regression model. You can read more about the particular model <a url=\"http://scikit-learn.org/stable/modules/generated/sklearn.linear_model.LogisticRegression.html\">here</a>"
   ]
  },
  {
   "cell_type": "code",
   "execution_count": 9,
   "metadata": {},
   "outputs": [
    {
     "data": {
      "text/plain": [
       "LogisticRegression(C=1.0, class_weight=None, dual=False, fit_intercept=True,\n",
       "          intercept_scaling=1, max_iter=100, multi_class='ovr', n_jobs=1,\n",
       "          penalty='l2', random_state=None, solver='liblinear', tol=0.0001,\n",
       "          verbose=0, warm_start=False)"
      ]
     },
     "execution_count": 9,
     "metadata": {},
     "output_type": "execute_result"
    }
   ],
   "source": [
    "labels = df_data['label']\n",
    "training_data= df_data.drop(['label'], axis=1)\n",
    "\n",
    "model = linear_model.LogisticRegression()\n",
    "model.fit(training_data, labels)\n",
    "\n"
   ]
  },
  {
   "cell_type": "markdown",
   "metadata": {},
   "source": [
    "## Part 3: Deploying updated model"
   ]
  },
  {
   "cell_type": "markdown",
   "metadata": {},
   "source": [
    "Now that we have an updated model, we can deploy that model onto Clipper. Once the system realizes there is a new version of the model, it will automatically switch to serving the newer version of the model.\n",
    "\n",
    "![update_model](imgs/update_model.png)"
   ]
  },
  {
   "cell_type": "code",
   "execution_count": 10,
   "metadata": {},
   "outputs": [
    {
     "name": "stderr",
     "output_type": "stream",
     "text": [
      "18-09-06:22:09:38 INFO     [deployer_utils.py:44] Saving function to /tmp/clipper/tmpcf3l8roj\n",
      "18-09-06:22:09:38 INFO     [deployer_utils.py:54] Serialized and supplied predict function\n",
      "18-09-06:22:09:38 INFO     [python.py:192] Python closure saved\n",
      "18-09-06:22:09:38 INFO     [python.py:206] Using Python 3.6 base image\n",
      "18-09-06:22:09:38 INFO     [clipper_admin.py:452] Building model Docker image with model data from /tmp/clipper/tmpcf3l8roj\n",
      "18-09-06:22:09:52 INFO     [clipper_admin.py:456] {'stream': 'Step 1/3 : FROM clipper/python36-closure-container:0.3.0'}\n",
      "18-09-06:22:09:52 INFO     [clipper_admin.py:456] {'stream': '\\n'}\n",
      "18-09-06:22:09:52 INFO     [clipper_admin.py:456] {'stream': ' ---> 74ba26b9a6ba\\n'}\n",
      "18-09-06:22:09:52 INFO     [clipper_admin.py:456] {'stream': 'Step 2/3 : COPY /tmp/clipper/tmpcf3l8roj /model/'}\n",
      "18-09-06:22:09:52 INFO     [clipper_admin.py:456] {'stream': '\\n'}\n",
      "18-09-06:22:09:52 INFO     [clipper_admin.py:456] {'stream': ' ---> 9f5d61ab481d\\n'}\n",
      "18-09-06:22:09:52 INFO     [clipper_admin.py:456] {'stream': 'Step 3/3 : RUN apt-get -y install build-essential && pip install numpy scipy pandas sklearn'}\n",
      "18-09-06:22:09:52 INFO     [clipper_admin.py:456] {'stream': '\\n'}\n",
      "18-09-06:22:09:52 INFO     [clipper_admin.py:456] {'stream': ' ---> Running in 623bd8c5e324\\n'}\n",
      "18-09-06:22:09:52 INFO     [clipper_admin.py:456] {'stream': 'Reading package lists...'}\n",
      "18-09-06:22:09:52 INFO     [clipper_admin.py:456] {'stream': '\\n'}\n",
      "18-09-06:22:09:52 INFO     [clipper_admin.py:456] {'stream': 'Building dependency tree...'}\n",
      "18-09-06:22:09:52 INFO     [clipper_admin.py:456] {'stream': '\\nReading state information...'}\n",
      "18-09-06:22:09:52 INFO     [clipper_admin.py:456] {'stream': '\\n'}\n",
      "18-09-06:22:09:52 INFO     [clipper_admin.py:456] {'stream': 'build-essential is already the newest version (12.3).\\n0 upgraded, 0 newly installed, 0 to remove and 1 not upgraded.\\n'}\n",
      "18-09-06:22:09:52 INFO     [clipper_admin.py:456] {'stream': 'Requirement already satisfied: numpy in /usr/local/lib/python3.6/site-packages (1.14.3)\\n'}\n",
      "18-09-06:22:09:52 INFO     [clipper_admin.py:456] {'stream': 'Collecting scipy\\n'}\n",
      "18-09-06:22:09:52 INFO     [clipper_admin.py:456] {'stream': '  Downloading https://files.pythonhosted.org/packages/a8/0b/f163da98d3a01b3e0ef1cab8dd2123c34aee2bafbb1c5bffa354cc8a1730/scipy-1.1.0-cp36-cp36m-manylinux1_x86_64.whl (31.2MB)\\n'}\n",
      "18-09-06:22:09:52 INFO     [clipper_admin.py:456] {'stream': 'Collecting pandas\\n'}\n",
      "18-09-06:22:09:52 INFO     [clipper_admin.py:456] {'stream': '  Downloading https://files.pythonhosted.org/packages/e1/d8/feeb346d41f181e83fba45224ab14a8d8af019b48af742e047f3845d8cff/pandas-0.23.4-cp36-cp36m-manylinux1_x86_64.whl (8.9MB)\\n'}\n",
      "18-09-06:22:09:52 INFO     [clipper_admin.py:456] {'stream': 'Collecting sklearn\\n'}\n",
      "18-09-06:22:09:52 INFO     [clipper_admin.py:456] {'stream': '  Downloading https://files.pythonhosted.org/packages/1e/7a/dbb3be0ce9bd5c8b7e3d87328e79063f8b263b2b1bfa4774cb1147bfcd3f/sklearn-0.0.tar.gz\\n'}\n",
      "18-09-06:22:09:52 INFO     [clipper_admin.py:456] {'stream': 'Requirement already satisfied: python-dateutil>=2.5.0 in /usr/local/lib/python3.6/site-packages (from pandas) (2.7.3)\\n'}\n",
      "18-09-06:22:09:52 INFO     [clipper_admin.py:456] {'stream': 'Collecting pytz>=2011k (from pandas)\\n'}\n",
      "18-09-06:22:09:52 INFO     [clipper_admin.py:456] {'stream': '  Downloading https://files.pythonhosted.org/packages/30/4e/27c34b62430286c6d59177a0842ed90dc789ce5d1ed740887653b898779a/pytz-2018.5-py2.py3-none-any.whl (510kB)\\n'}\n",
      "18-09-06:22:09:52 INFO     [clipper_admin.py:456] {'stream': 'Collecting scikit-learn (from sklearn)\\n'}\n",
      "18-09-06:22:09:52 INFO     [clipper_admin.py:456] {'stream': '  Downloading https://files.pythonhosted.org/packages/f9/c8/8db4108aba5e2166cd2ea4eafa1a4b82f89240a1fa85733029cc2358ad1f/scikit_learn-0.19.2-cp36-cp36m-manylinux1_x86_64.whl (4.9MB)\\n'}\n",
      "18-09-06:22:09:52 INFO     [clipper_admin.py:456] {'stream': 'Requirement already satisfied: six>=1.5 in /usr/local/lib/python3.6/site-packages (from python-dateutil>=2.5.0->pandas) (1.11.0)\\n'}\n",
      "18-09-06:22:09:52 INFO     [clipper_admin.py:456] {'stream': 'Building wheels for collected packages: sklearn\\n'}\n",
      "18-09-06:22:09:52 INFO     [clipper_admin.py:456] {'stream': '  Running setup.py bdist_wheel for sklearn: started\\n'}\n",
      "18-09-06:22:09:52 INFO     [clipper_admin.py:456] {'stream': \"  Running setup.py bdist_wheel for sklearn: finished with status 'done'\\n\"}\n",
      "18-09-06:22:09:52 INFO     [clipper_admin.py:456] {'stream': '  Stored in directory: /root/.cache/pip/wheels/76/03/bb/589d421d27431bcd2c6da284d5f2286c8e3b2ea3cf1594c074\\n'}\n",
      "18-09-06:22:09:52 INFO     [clipper_admin.py:456] {'stream': 'Successfully built sklearn\\n'}\n",
      "18-09-06:22:09:52 INFO     [clipper_admin.py:456] {'stream': 'Installing collected packages: scipy, pytz, pandas, scikit-learn, sklearn\\n'}\n",
      "18-09-06:22:09:52 INFO     [clipper_admin.py:456] {'stream': 'Successfully installed pandas-0.23.4 pytz-2018.5 scikit-learn-0.19.2 scipy-1.1.0 sklearn-0.0\\n'}\n",
      "18-09-06:22:09:52 INFO     [clipper_admin.py:456] {'stream': \"\\x1b[91mYou are using pip version 10.0.1, however version 18.0 is available.\\nYou should consider upgrading via the 'pip install --upgrade pip' command.\\n\\x1b[0m\"}\n",
      "18-09-06:22:09:52 INFO     [clipper_admin.py:456] {'stream': ' ---> 40505054964b\\n'}\n",
      "18-09-06:22:09:52 INFO     [clipper_admin.py:456] {'aux': {'ID': 'sha256:40505054964b89eef51ff3ce365d8b5aea7a9ba7f9e4fef11294e22a811ac239'}}\n",
      "18-09-06:22:09:52 INFO     [clipper_admin.py:456] {'stream': 'Successfully built 40505054964b\\n'}\n",
      "18-09-06:22:09:52 INFO     [clipper_admin.py:456] {'stream': 'Successfully tagged pong:3\\n'}\n",
      "18-09-06:22:09:52 INFO     [clipper_admin.py:458] Pushing model Docker image to pong:3\n",
      "18-09-06:22:09:53 INFO     [docker_container_manager.py:257] Found 0 replicas for pong:3. Adding 1\n",
      "18-09-06:22:10:00 INFO     [clipper_admin.py:635] Successfully registered model pong:3\n",
      "18-09-06:22:10:00 INFO     [clipper_admin.py:553] Done deploying model pong:3.\n"
     ]
    }
   ],
   "source": [
    "def predict(inputs):\n",
    "    # model.predict returns a list of predictions\n",
    "    preds = model.predict(inputs)\n",
    "    return [str(p) for p in preds]\n",
    "\n",
    "'''\n",
    "TO-DO:\n",
    "Fill in the line of code below to deploy a version 2 of the pong model container. \n",
    "It takes in inputs of type double and uses the predict function defined above.\n",
    "'''\n",
    "py_deployer.deploy_python_closure(clipper_conn, name=\"...\", version=..., input_type=\"...\", func=..., pkgs_to_install=[\"numpy\",\"scipy\", \"pandas\", \"sklearn\"])\n"
   ]
  },
  {
   "cell_type": "markdown",
   "metadata": {},
   "source": [
    "```python\n",
    "def predict(inputs):\n",
    "    # model.predict returns a list of predictions\n",
    "    preds = model.predict(inputs)\n",
    "    return [str(p) for p in preds]\n",
    "\n",
    "'''\n",
    "TO-DO:\n",
    "Fill in the line of code below to deploy a version 2 of the pong model container. \n",
    "It takes in inputs of type double and uses the predict function defined above.\n",
    "'''\n",
    "py_deployer.deploy_python_closure(clipper_conn, name=\"pong\", version=2, input_type=\"doubles\", func=predict, pkgs_to_install=[\"numpy\",\"scipy\", \"pandas\", \"sklearn\"])\n",
    "```"
   ]
  },
  {
   "cell_type": "markdown",
   "metadata": {},
   "source": [
    "You may notice that it seems like we only deployed the predict function to Clipper. However, Clipper will track the dependencies that the model in the predict function uses and include them in the model Docker container as dependencies. You can take a look at the logs above to see the Docker container downloading said dependencies.\n",
    "\n",
    "Go to http://localhost:4000/pong/ , click 1, and notice how the game is now serving the updated model!"
   ]
  },
  {
   "cell_type": "code",
   "execution_count": null,
   "metadata": {},
   "outputs": [],
   "source": [
    "# server_proc.terminate()"
   ]
  },
  {
   "cell_type": "markdown",
   "metadata": {},
   "source": [
    "## 4. Conclusion"
   ]
  },
  {
   "cell_type": "markdown",
   "metadata": {},
   "source": [
    "Just as a recap, here's what we did today:\n",
    "\n",
    "1. Deployed an initial random policy to Clipper and served predictions\n",
    "2. Trained a new model with data that you generated while playing pong\n",
    "3. Deployed new version of model and seamlessly switch the model being served\n",
    "\n",
    "By doing so, we've explored the following Clipper features:\n",
    "\n",
    "1. Deploy models trained in your choice of framework to Clipper with a few lines of code by using an existing model container or writing your own\n",
    "2. Easily update or roll back models in running applications\n",
    "3. Run each model in a separate Docker container for simple cluster management and resource allocation\n"
   ]
  },
  {
   "cell_type": "code",
   "execution_count": null,
   "metadata": {},
   "outputs": [],
   "source": [
    "!python stop_c.py\n"
   ]
  }
 ],
 "metadata": {
  "anaconda-cloud": {},
  "kernelspec": {
   "display_name": "Python [default]",
   "language": "python",
   "name": "python3"
  },
  "language_info": {
   "codemirror_mode": {
    "name": "ipython",
    "version": 3
   },
   "file_extension": ".py",
   "mimetype": "text/x-python",
   "name": "python",
   "nbconvert_exporter": "python",
   "pygments_lexer": "ipython3",
   "version": "3.5.4"
  }
 },
 "nbformat": 4,
 "nbformat_minor": 2
}
