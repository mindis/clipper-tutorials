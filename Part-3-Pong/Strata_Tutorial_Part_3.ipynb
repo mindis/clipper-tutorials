{
 "cells": [
  {
   "cell_type": "markdown",
   "metadata": {},
   "source": [
    "# Tutorial 3: Clipper in Action with Pong"
   ]
  },
  {
   "cell_type": "markdown",
   "metadata": {},
   "source": [
    "We have already explored some of the features of Clipper (insert recap here). Now let's take a look at Clipper in action with Pong! Released by Atari in 1972, Pong was the first commercially successful video game. You can read more about it <a href=\"https://en.wikipedia.org/wiki/Pong\">here</a>\n",
    "\n",
    "The goal of this tutorial is to use Clipper to deploy several AI policies to play against, and in doing so explore:\n",
    "1. Deploy models trained in your choice of framework to Clipper with a few lines of code by using an existing model container or writing your own\n",
    "2. Easily update or roll back models in running applications\n",
    "3. Run each model in a separate Docker container for simple cluster management and resource allocation\n",
    "\n",
    "This tutorial will be broken up into 3 main parts:\n",
    "#### 1. Starting Clipper and Deploying First Policy\n",
    "#### 2. Training a Better Model\n",
    "#### 3. Deploying an updated, trained model"
   ]
  },
  {
   "cell_type": "markdown",
   "metadata": {},
   "source": [
    "## Part 1: Starting Clipper and Deploying First Policy"
   ]
  },
  {
   "cell_type": "markdown",
   "metadata": {},
   "source": [
    "Install packaged env from requirements.txt (not sure if we should do this before opening jupyter notebook or not)"
   ]
  },
  {
   "cell_type": "code",
   "execution_count": null,
   "metadata": {},
   "outputs": [],
   "source": [
    "#Import dependencies\n",
    "from clipper_admin import ClipperConnection, DockerContainerManager\n",
    "from clipper_admin.deployers import python as py_deployer\n",
    "import random\n",
    "import numpy as np\n",
    "import pandas as pd\n",
    "from sklearn import linear_model\n",
    "import requests\n",
    "\n",
    "this_ip = requests.get('http://ip.42.pl/raw').text\n",
    "this_ip"
   ]
  },
  {
   "cell_type": "markdown",
   "metadata": {},
   "source": [
    "Our first step is to get Clipper started and deploy our first AI policy: one that guesses which direction to move the paddle randomly. First, make sure Docker is running.\n",
    "\n",
    "The cell below will start Clipper. You can run docker ps in your bash to see the Clipper Docker containers"
   ]
  },
  {
   "cell_type": "code",
   "execution_count": null,
   "metadata": {},
   "outputs": [],
   "source": [
    "#Starting Clipper, make sure you have Docker running before you run this cell\n",
    "clipper_conn = ClipperConnection(DockerContainerManager())\n",
    "clipper_conn.stop_all()\n",
    "clipper_conn.start_clipper()"
   ]
  },
  {
   "cell_type": "markdown",
   "metadata": {},
   "source": [
    "Running the cell below will register an application in Clipper called \"pong\" and create a Clipper endpoint for our random policy at http://localhost:1337/pong/predict"
   ]
  },
  {
   "cell_type": "code",
   "execution_count": null,
   "metadata": {},
   "outputs": [],
   "source": [
    "def random_predict(xs):\n",
    "    '''Deploy a policy that returns a random choice from 0, 1, or 2.\n",
    "    Remember that Clipper requires the output of the predict function to be a list of string objects'''\n",
    "    action = random.randint(..., ...)\n",
    "    return [...(action) for _ in xs]\n",
    "\n",
    "py_deployer.create_endpoint(clipper_conn, name=\"pong\", input_type=\"doubles\", func=random_predict,\n",
    "                            default_output=\"0\", slo_micros=100000)"
   ]
  },
  {
   "cell_type": "markdown",
   "metadata": {},
   "source": [
    "```python\n",
    "def random_predict(xs):\n",
    "    action = random.randint(0, 2)\n",
    "    return [str(action) for _ in xs]\n",
    "\n",
    "py_deployer.create_endpoint(clipper_conn, name=\"pong\", input_type=\"doubles\", func=random_predict,\n",
    "                            default_output=\"0\", slo_micros=100000)\n",
    "```"
   ]
  },
  {
   "cell_type": "markdown",
   "metadata": {},
   "source": [
    "Now that we have a model deployed, let's see how it works! Run the cell below to start the game"
   ]
  },
  {
   "cell_type": "code",
   "execution_count": null,
   "metadata": {},
   "outputs": [],
   "source": [
    "from subprocess import Popen, PIPE\n",
    "\n",
    "server_proc = Popen([\n",
    "    \"python\", \n",
    "    \"pong-server/pong-server.py\", \n",
    "    \"localhost:1337\", \n",
    "    this_ip,\n",
    "    \"pong_server.log\"], stdout=PIPE)"
   ]
  },
  {
   "cell_type": "markdown",
   "metadata": {},
   "source": [
    "Congratulations! We have depolyed our first model to Clipper! Let's take a look at it by clicking the link below and pressing 1 to start the game.\n",
    "\n",
    "\n",
    "\n"
   ]
  },
  {
   "cell_type": "code",
   "execution_count": null,
   "metadata": {},
   "outputs": [],
   "source": [
    "print(f\"\"\"\n",
    "This is your link to pong game:\n",
    "http://{this_ip}:4000/pong/\n",
    "\"\"\")"
   ]
  },
  {
   "cell_type": "code",
   "execution_count": null,
   "metadata": {},
   "outputs": [],
   "source": [
    "# server_proc.terminate()"
   ]
  },
  {
   "cell_type": "markdown",
   "metadata": {},
   "source": [
    "## Part 2: Training a better model"
   ]
  },
  {
   "cell_type": "markdown",
   "metadata": {},
   "source": [
    "As you probably noticed, the random-guessing policy did not perform well at all. In order to train a better model, we are going to use imitation learning. Let's play the game again, this time with 2 actual players, and we will collect data on how you play the game to train our model! "
   ]
  },
  {
   "cell_type": "markdown",
   "metadata": {},
   "source": [
    "Go to pong link we had above and press 2. Find someone next to you and play pong against them!!"
   ]
  },
  {
   "cell_type": "markdown",
   "metadata": {},
   "source": [
    "<b>Part to collect data into a output.csv --> currently doing this in really hacky way to just get it to work, but trying to figure out better solution</b>"
   ]
  },
  {
   "cell_type": "markdown",
   "metadata": {},
   "source": [
    "Now that we have our data, lets train a new model! First, run the cell below to clean the data and format it for scikit-learn's LogisticRegression model."
   ]
  },
  {
   "cell_type": "code",
   "execution_count": null,
   "metadata": {},
   "outputs": [],
   "source": [
    "df_data = pd.read_csv('out.csv')\n",
    "df_data.columns = [\"label\",\"paddle_y\",\"ball_x\",\"ball_y\",\"ball_dx\",\"ball_dy\",\"x_prev\",\"y_prev\"]\n",
    "\n",
    "def convert_label(label):\n",
    "    \"\"\"Convert labels into numeric values\"\"\"\n",
    "    if(label==\"down\"):\n",
    "        return 1\n",
    "    elif(label==\"up\"):\n",
    "        return 2\n",
    "    else:\n",
    "        return 0\n",
    "\n",
    "df_data['label'] = df_data['label'].apply(convert_label)\n",
    "df_data.loc[:, \"paddle_y\":\"y_prev\"] = df_data.loc[:, \"paddle_y\":\"y_prev\"]/500.0\n",
    "\n",
    "df_data.head()"
   ]
  },
  {
   "cell_type": "code",
   "execution_count": null,
   "metadata": {},
   "outputs": [],
   "source": [
    "df_data.size"
   ]
  },
  {
   "cell_type": "markdown",
   "metadata": {},
   "source": [
    "We are going to use the data to train a scikit-learn Logistic Regression model. You can read more about the particular model <a url=\"http://scikit-learn.org/stable/modules/generated/sklearn.linear_model.LogisticRegression.html\">here</a>"
   ]
  },
  {
   "cell_type": "code",
   "execution_count": null,
   "metadata": {},
   "outputs": [],
   "source": [
    "labels = df_data['label']\n",
    "training_data= df_data.drop(['label'], axis=1)\n",
    "\n",
    "model = linear_model.LogisticRegression()\n",
    "model.fit(training_data, labels)\n",
    "\n"
   ]
  },
  {
   "cell_type": "markdown",
   "metadata": {},
   "source": [
    "## Part 3: Deploying updated model"
   ]
  },
  {
   "cell_type": "markdown",
   "metadata": {},
   "source": [
    "Now that we have an updated model, we can deploy that model onto Clipper. Once the system realizes there is a new version of the model, it will automatically switch to serving the newer version of the model.\n",
    "\n",
    "![update_model](imgs/update_model.png)"
   ]
  },
  {
   "cell_type": "code",
   "execution_count": null,
   "metadata": {},
   "outputs": [],
   "source": [
    "def predict(inputs):\n",
    "    # model.predict returns a list of predictions\n",
    "    preds = model.predict(inputs)\n",
    "    return [str(p) for p in preds]\n",
    "\n",
    "'''\n",
    "TO-DO:\n",
    "Fill in the line of code below to deploy a version 2 of the pong model container. \n",
    "It takes in inputs of type double and uses the predict function defined above.\n",
    "'''\n",
    "py_deployer.deploy_python_closure(clipper_conn, name=\"...\", version=..., input_type=\"...\", func=..., pkgs_to_install=[\"numpy\",\"scipy\", \"pandas\", \"sklearn\"])\n"
   ]
  },
  {
   "cell_type": "markdown",
   "metadata": {},
   "source": [
    "```python\n",
    "def predict(inputs):\n",
    "    # model.predict returns a list of predictions\n",
    "    preds = model.predict(inputs)\n",
    "    return [str(p) for p in preds]\n",
    "\n",
    "'''\n",
    "TO-DO:\n",
    "Fill in the line of code below to deploy a version 2 of the pong model container. \n",
    "It takes in inputs of type double and uses the predict function defined above.\n",
    "'''\n",
    "py_deployer.deploy_python_closure(clipper_conn, name=\"pong\", version=2, input_type=\"doubles\", func=predict, pkgs_to_install=[\"numpy\",\"scipy\", \"pandas\", \"sklearn\"])\n",
    "```"
   ]
  },
  {
   "cell_type": "markdown",
   "metadata": {},
   "source": [
    "You may notice that it seems like we only deployed the predict function to Clipper. However, Clipper will track the dependencies that the model in the predict function uses and include them in the model Docker container as dependencies. You can take a look at the logs above to see the Docker container downloading said dependencies.\n",
    "\n",
    "Go to pong link we showed above , click 1, and notice how the game is now serving the updated model!"
   ]
  },
  {
   "cell_type": "code",
   "execution_count": null,
   "metadata": {},
   "outputs": [],
   "source": [
    "# server_proc.terminate()"
   ]
  },
  {
   "cell_type": "markdown",
   "metadata": {},
   "source": [
    "## 4. Conclusion"
   ]
  },
  {
   "cell_type": "markdown",
   "metadata": {},
   "source": [
    "Just as a recap, here's what we did today:\n",
    "\n",
    "1. Deployed an initial random policy to Clipper and served predictions\n",
    "2. Trained a new model with data that you generated while playing pong\n",
    "3. Deployed new version of model and seamlessly switch the model being served\n",
    "\n",
    "By doing so, we've explored the following Clipper features:\n",
    "\n",
    "1. Deploy models trained in your choice of framework to Clipper with a few lines of code by using an existing model container or writing your own\n",
    "2. Easily update or roll back models in running applications\n",
    "3. Run each model in a separate Docker container for simple cluster management and resource allocation\n"
   ]
  },
  {
   "cell_type": "code",
   "execution_count": null,
   "metadata": {},
   "outputs": [],
   "source": [
    "!python stop_c.py\n"
   ]
  }
 ],
 "metadata": {
  "anaconda-cloud": {},
  "kernelspec": {
   "display_name": "Python 3",
   "language": "python",
   "name": "python3"
  },
  "language_info": {
   "codemirror_mode": {
    "name": "ipython",
    "version": 3
   },
   "file_extension": ".py",
   "mimetype": "text/x-python",
   "name": "python",
   "nbconvert_exporter": "python",
   "pygments_lexer": "ipython3",
   "version": "3.6.5"
  }
 },
 "nbformat": 4,
 "nbformat_minor": 2
}
