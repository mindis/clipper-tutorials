{
 "cells": [
  {
   "cell_type": "markdown",
   "metadata": {},
   "source": [
    "# Tutorial 3: Clipper in Action with Pong"
   ]
  },
  {
   "cell_type": "markdown",
   "metadata": {},
   "source": [
    "We have already explored some of the features of Clipper (insert recap here). Now let's take a look at Clipper in action with Pong! Released by Atari in 1972, Pong was the first commercially successful video game. You can read more about it <a href=\"https://en.wikipedia.org/wiki/Pong\">here</a>\n",
    "\n",
    "The goal of this tutorial is to use Clipper to deploy several ML models to play against, and in doing so explore:\n",
    "1. Deploying models trained in your choice of framework to Clipper with a few lines of code using Clipper's model deployers.\n",
    "2. Easily update or roll back models that have already been deployed in live applications.\n",
    "3. Use machine learning and Clipper to do something fun!\n",
    "\n",
    "This tutorial will be broken up into 3 main parts:\n",
    "#### 1. Starting Clipper and deploying an initial (bad) model\n",
    "#### 2. Training a better model\n",
    "#### 3. Deploying the new and improved model to the live Pong application"
   ]
  },
  {
   "cell_type": "markdown",
   "metadata": {},
   "source": [
    "## Part 1: Starting Clipper and deploying your first Pong AI model"
   ]
  },
  {
   "cell_type": "code",
   "execution_count": null,
   "metadata": {},
   "outputs": [],
   "source": [
    "#Import dependencies\n",
    "from clipper_admin import ClipperConnection, DockerContainerManager\n",
    "from clipper_admin.deployers import python as py_deployer\n",
    "import random\n",
    "import numpy as np\n",
    "import pandas as pd\n",
    "from sklearn import linear_model\n",
    "import requests\n",
    "from IPython.display import Markdown, display\n",
    "\n",
    "this_ip = requests.get('http://ip.42.pl/raw').text\n",
    "this_ip"
   ]
  },
  {
   "cell_type": "markdown",
   "metadata": {},
   "source": [
    "The first step is to start Clipper and deploy your first model: one that randomly guesses which direction to move the paddle.\n",
    "\n",
    "The cell below will start Clipper running in Docker containers. You can run the `docker ps` shell comamnd to see the Clipper Docker containers. By this point, the Clipper Docker images should already be downloaded on the server. But if you decided to do the exercises out of order and are starting Clipper for the first time, this command may take a few minutes while it downloads the Docker images."
   ]
  },
  {
   "cell_type": "code",
   "execution_count": null,
   "metadata": {},
   "outputs": [],
   "source": [
    "# Start Clipper. This command assumes that Docker is already running.\n",
    "clipper_conn = ClipperConnection(DockerContainerManager())\n",
    "clipper_conn.stop_all()\n",
    "clipper_conn.start_clipper()"
   ]
  },
  {
   "cell_type": "markdown",
   "metadata": {},
   "source": [
    "Running the cell below will register an application in Clipper called \"pong\" and create a Clipper endpoint for the random policy at http://localhost:1337/pong/predict"
   ]
  },
  {
   "cell_type": "code",
   "execution_count": null,
   "metadata": {},
   "outputs": [],
   "source": [
    "def random_predict(xs):\n",
    "    '''\n",
    "    Deploy a policy that returns a random choice from 0, 1, or 2.\n",
    "    Remember that Clipper requires the output of the predict function to\n",
    "    be a list of string objects.\n",
    "    '''\n",
    "    action = None # TODO randomly choose an action from the choices 0, 1, 2\n",
    "    return [str(action) for _ in xs]\n",
    "\n",
    "py_deployer.create_endpoint(clipper_conn, name=\"pong\", input_type=\"doubles\", func=random_predict,\n",
    "                            default_output=\"0\", slo_micros=100000, )"
   ]
  },
  {
   "cell_type": "markdown",
   "metadata": {},
   "source": [
    "**Solution:**"
   ]
  },
  {
   "cell_type": "markdown",
   "metadata": {},
   "source": [
    "```python\n",
    "def random_predict(xs):\n",
    "    action = random.randint(0, 2)\n",
    "    return [str(action) for _ in xs]\n",
    "\n",
    "py_deployer.create_endpoint(clipper_conn, name=\"pong\", input_type=\"doubles\", func=random_predict,\n",
    "                            default_output=\"0\", slo_micros=100000)\n",
    "```"
   ]
  },
  {
   "cell_type": "markdown",
   "metadata": {},
   "source": [
    "Now that you have a model deployed, let's see how it works! Run the cell below to start the little web app that will serve the Pong game."
   ]
  },
  {
   "cell_type": "code",
   "execution_count": null,
   "metadata": {},
   "outputs": [],
   "source": [
    "from subprocess import Popen, PIPE\n",
    "\n",
    "server_proc = Popen([\n",
    "    \"python\", \n",
    "    \"pong-server/pong-server.py\", \n",
    "    \"localhost:1337\", \n",
    "    this_ip,\n",
    "    \"pong_server.log\"], stdout=PIPE)\n",
    "\n",
    "display(Markdown(f\"\"\"\n",
    "This is your link to pong game:\n",
    "http://{this_ip}:4000/pong/\n",
    "\"\"\"))"
   ]
  },
  {
   "cell_type": "markdown",
   "metadata": {},
   "source": [
    "Congratulations! We have deployed our first Pong AI to Clipper! Let's see how well it works by **clicking the link above and pressing 1 to start the game.**"
   ]
  },
  {
   "cell_type": "markdown",
   "metadata": {},
   "source": [
    "> *If you need to stop the server for any reason, you can run the following command to stop it:*\n",
    ">```py\n",
    "server_proc.terminate()\n",
    "```"
   ]
  },
  {
   "cell_type": "markdown",
   "metadata": {},
   "source": [
    "## Part 2: Training a better model"
   ]
  },
  {
   "cell_type": "markdown",
   "metadata": {},
   "source": [
    "As you probably noticed, the random-guessing policy did not perform well at all. In order to train a better model, you will use [imitation learning](https://katefvision.github.io/katefSlides/immitation_learning_I_katef.pdf). Imitation learning is often used for reinforcement learning, but in this case we are going to use it to train a simple classifier."
   ]
  },
  {
   "cell_type": "markdown",
   "metadata": {},
   "source": [
    "Play the game again, this time with 2 human players, and we will collect data on how you play the game to train the model.\n",
    "\n",
    "First, pair up with one of the people sitting next to you to play against. Then go back to your pong game and **press 2 to start a 2-player game.** After you have played a few games on your computer, switch to your partner's computer and play on their instance so you both have training data."
   ]
  },
  {
   "cell_type": "markdown",
   "metadata": {},
   "source": [
    "### After you've finished playing Pong\n",
    "\n",
    "Now that you have some training data, it's time to train a model. First, run the cell below to clean the data and format it for Scikit-Learn's LogisticRegression model."
   ]
  },
  {
   "cell_type": "code",
   "execution_count": null,
   "metadata": {},
   "outputs": [],
   "source": [
    "df_data = pd.read_csv('out.csv')\n",
    "df_data.columns = [\"label\",\"paddle_y\",\"ball_x\",\"ball_y\",\"ball_dx\",\"ball_dy\",\"x_prev\",\"y_prev\"]\n",
    "\n",
    "def convert_label(label):\n",
    "    \"\"\"Convert labels into numeric values\"\"\"\n",
    "    if(label==\"down\"):\n",
    "        return 1\n",
    "    elif(label==\"up\"):\n",
    "        return 2\n",
    "    else:\n",
    "        return 0\n",
    "\n",
    "df_data['label'] = df_data['label'].apply(convert_label)\n",
    "df_data.loc[:, \"paddle_y\":\"y_prev\"] = df_data.loc[:, \"paddle_y\":\"y_prev\"]/500.0\n",
    "\n",
    "df_data.head()"
   ]
  },
  {
   "cell_type": "code",
   "execution_count": null,
   "metadata": {},
   "outputs": [],
   "source": [
    "df_data.size"
   ]
  },
  {
   "cell_type": "markdown",
   "metadata": {},
   "source": [
    "You will use the data to train a scikit-learn Logistic Regression model, just as you did in the previous exercise. You can read more about the particular model [in the documentation](http://scikit-learn.org/stable/modules/generated/sklearn.linear_model.LogisticRegression.html)."
   ]
  },
  {
   "cell_type": "code",
   "execution_count": null,
   "metadata": {},
   "outputs": [],
   "source": [
    "labels = df_data['label']\n",
    "training_data= df_data.drop(['label'], axis=1)\n",
    "\n",
    "model = linear_model.LogisticRegression()\n",
    "model.fit(training_data, labels)"
   ]
  },
  {
   "cell_type": "markdown",
   "metadata": {},
   "source": [
    "## Part 3: Deploying the new model to a live application"
   ]
  },
  {
   "cell_type": "markdown",
   "metadata": {},
   "source": [
    "Now that you have a better model, you can deploy that model to Clipper. Once the system detects there is a new version of the model, it will automatically start routing requests to the new version.\n",
    "\n",
    "![update_model](notebook-images/pong_update_model.png)"
   ]
  },
  {
   "cell_type": "code",
   "execution_count": null,
   "metadata": {},
   "outputs": [],
   "source": [
    "def predict(inputs):\n",
    "    # model.predict returns a list of predictions\n",
    "    preds = model.predict(inputs)\n",
    "    return [str(p) for p in preds]\n",
    "\n",
    "# TODO: Fill in the missing values below to deploy a version 2 of the pong model container. \n",
    "# It takes in inputs of type double and uses the predict function defined above.\n",
    "\n",
    "py_deployer.deploy_python_closure(clipper_conn, name=\"\", version=\"\", input_type=\"\", func=\"\",\n",
    "                                  pkgs_to_install=[\"numpy\",\"scipy\", \"pandas\", \"sklearn\"])\n"
   ]
  },
  {
   "cell_type": "markdown",
   "metadata": {},
   "source": [
    "**Solution:**"
   ]
  },
  {
   "cell_type": "markdown",
   "metadata": {},
   "source": [
    "```python\n",
    "def predict(inputs):\n",
    "    # model.predict returns a list of predictions\n",
    "    preds = model.predict(inputs)\n",
    "    return [str(p) for p in preds]\n",
    "\n",
    "# TODO: Fill in the missing values below to deploy a version 2 of the pong model container. \n",
    "# It takes in inputs of type double and uses the predict function defined above.\n",
    "\n",
    "py_deployer.deploy_python_closure(clipper_conn, name=\"pong\", version=2, input_type=\"doubles\", func=predict, pkgs_to_install=[\"numpy\",\"scipy\", \"pandas\", \"sklearn\"])\n",
    "```"
   ]
  },
  {
   "cell_type": "markdown",
   "metadata": {},
   "source": [
    "Go to pong link we showed above , press 1 to start a new game against the AI, and notice how the game AI has improved with your new model!"
   ]
  },
  {
   "cell_type": "markdown",
   "metadata": {},
   "source": [
    "### Next steps\n",
    "\n",
    "This is the end of the Clipper tutorial. If you have finished early, you can continue trying to improve the Pong model. Scikit-Learn has several different classifiers you can experiment with. For example, you might see how a [Random Forest](http://scikit-learn.org/stable/modules/generated/sklearn.ensemble.RandomForestClassifier.html) or an [SVM](http://scikit-learn.org/stable/modules/generated/sklearn.svm.SVC.html#sklearn.svm.SVC) perform. "
   ]
  },
  {
   "cell_type": "code",
   "execution_count": null,
   "metadata": {},
   "outputs": [],
   "source": [
    "# server_proc.terminate()"
   ]
  },
  {
   "cell_type": "markdown",
   "metadata": {},
   "source": [
    "## 4. Conclusion"
   ]
  },
  {
   "cell_type": "markdown",
   "metadata": {},
   "source": [
    "Just as a recap, here's what we did today:\n",
    "\n",
    "1. Deployed an initial random policy to Clipper and served predictions\n",
    "2. Trained a new model to imitate your own Pong playing behavior.\n",
    "3. Deployed this new version of model to a live application without any downtime.\n",
    "\n",
    "By doing so, we've explored the following Clipper features:\n",
    "\n",
    "1. Deploy models trained in your choice of framework to Clipper with a few lines of code by using an existing model container or writing your own\n",
    "2. Easily update or roll back models in running applications\n",
    "3. Run each model in a separate Docker container for simple cluster management and resource allocation\n"
   ]
  },
  {
   "cell_type": "markdown",
   "metadata": {},
   "source": [
    "\n",
    "Run the cell below to stop clipper:"
   ]
  },
  {
   "cell_type": "code",
   "execution_count": null,
   "metadata": {},
   "outputs": [],
   "source": [
    "clipper_conn.stop_all() \n"
   ]
  }
 ],
 "metadata": {
  "anaconda-cloud": {},
  "kernelspec": {
   "display_name": "Python 3",
   "language": "python",
   "name": "python3"
  },
  "language_info": {
   "codemirror_mode": {
    "name": "ipython",
    "version": 3
   },
   "file_extension": ".py",
   "mimetype": "text/x-python",
   "name": "python",
   "nbconvert_exporter": "python",
   "pygments_lexer": "ipython3",
   "version": "3.6.6"
  }
 },
 "nbformat": 4,
 "nbformat_minor": 2
}
