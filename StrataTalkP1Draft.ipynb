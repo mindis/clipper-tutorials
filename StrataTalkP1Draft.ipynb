{
 "cells": [
  {
   "cell_type": "code",
   "execution_count": 1,
   "metadata": {},
   "outputs": [
    {
     "name": "stdout",
     "output_type": "stream",
     "text": [
      "\u001b[33mYou are using pip version 10.0.1, however version 18.0 is available.\r\n",
      "You should consider upgrading via the 'pip install --upgrade pip' command.\u001b[0m\r\n"
     ]
    }
   ],
   "source": [
    "import sys\n",
    "!{sys.executable} -m pip install -q clipper_admin"
   ]
  },
  {
   "cell_type": "markdown",
   "metadata": {},
   "source": [
    "# API Overview\n",
    "\n",
    "In the first part of this exercise, you will explore how to create and interact with a Clipper cluster. The primary way of managing Clipper is with the Clipper Admin Python tool. This tutorial will walk you through all the things you can do with the Clipper Admin tool as well as explain what happens within Clipper when you issue each command. You can find the complete API documentation for the Clipper Admin tool on our website: <http://docs.clipper.ai>.\n",
    "\n",
    "**Goal:** Be familiar with how to create and manage a Clipper cluster, and understand what happens when you issue Clipper admin commands."
   ]
  },
  {
   "cell_type": "markdown",
   "metadata": {},
   "source": [
    "## Context\n",
    "The Clipper Admin tool is distributed through Pip. You can install it with `pip install clipper_admin`, but it has already been installed in this notebook for you, in the first cell.\n",
    "\n",
    "Clipper is built on top of Docker containers. A running Clipper cluster consists of a collection of Docker containers communicating with each other over the network. As you issue commands against Clipper, you are communicating with these containers as well as creating new ones or destroying existing ones. As you explore the Clipper API throughout this exercise, we will illustrate how each command effects the cluster state.\n",
    "\n",
    "The main API for interacting with Clipper is exposed via a [`ClipperConnection`](http://docs.clipper.ai/en/develop/#clipper-connection) object. This is your handle to a Clipper cluster (this collection of Docker containers). It can be used to start, stop, inspect, and modify the cluster.\n",
    "\n",
    "In order to create a `ClipperConnection` object, you must provide it with a [`ContainerManager`](http://docs.clipper.ai/en/develop/#container-managers) object. While Docker is becoming an increasingly standard mechanism for deploying applications, there are many different tools for managing a Docker cluster. These tools broadly fall into the category of *Container Orchestration frameworks*. Some popular examples are [Kubernetes](https://kubernetes.io/), [Docker Swarm](https://docs.docker.com/engine/swarm/), and [DC/OS](https://dcos.io/). One of the reasons we run Clipper in Docker containers is to make the system as general as possible and support many different deployment scenarios. Within the Clipper Admin, we abstract away all of the Docker container-specific commands behind the `ContainerManager` interface. The `ClipperConnection` object makes Clipper-specific decisions about how to issue commands, and then makes any changes to the Docker configuration (for example, to launch a container for a newly deployed model) through the `ContainerManager`. To support different container orchestration frameworks that manage Docker containers in different ways, we create different implementations of the `ContainerManager` interface.\n",
    "\n",
    "Clipper currently provides two `ContainerManager` implementations: the `DockerContainerManager` and the `KubernetesContainerManager`. In this exercise, you will be using the `DockerContainerManager`, which runs Clipper directly on your local Docker instance. This `ContainerManager` is particularly useful for trying out Clipper without needing to set up an enterprise-grade container orchestration framework. The `DockerContainerManager` is not recommended for production use cases."
   ]
  },
  {
   "cell_type": "markdown",
   "metadata": {},
   "source": [
    "## Creating a ClipperConnection\n",
    "To beginn using Clipper, we must first create a [`ClipperConnection`](http://docs.clipper.ai/en/develop/#clipper-connection) object. With the type of `ContainerManager` you want to use. It is important to note that creating a new connection object does not connect to Clipper - a good thing because there is no running Clipper instance to connect to!\n",
    "\n",
    "Before we connect, we need to start Clipper - which we will address in the next step.\n",
    "\n",
    "Returning to the process of creating a new connection object, we realize that the first step is to create a `DockerContainerManager` object. The `DockerContainerManager` constructor takes `docker_ip_address` as a keyword argument. Generally, since we want the Clipper cluster to be run locally, we can omit this argument, as its default value is `127.0.0.1`, which will suit our purposes in this case as well."
   ]
  },
  {
   "cell_type": "code",
   "execution_count": 2,
   "metadata": {
    "collapsed": true
   },
   "outputs": [],
   "source": [
    "from clipper_admin import ClipperConnection, DockerContainerManager\n",
    "clipper_conn = ClipperConnection(DockerContainerManager())"
   ]
  },
  {
   "cell_type": "markdown",
   "metadata": {},
   "source": [
    "## Starting Clipper\n",
    "Now that we have a `ClipperConnection` object, we must start Clipper to provide it an endpoint to connect to.\n",
    "\n",
    "This command will start 3 Docker containers:\n",
    "1. The Query Frontend: The Query Frontend container listens for incoming prediction requests and schedules and routes them to the deployed models. In the future, it will also be able to call user defined model selection policies on prediction requests to decide which models to route to.\n",
    "2. The Management Frontend: The Management Frontend container manages and updates Clipper's internal configuration state.\n",
    "3. A Redis instance: Redis is used to persistently store Clipper's internal configuration state. Redis is started on port 6380 instead of the default port to avoid collisions with any Redis instances that are already running.\n",
    "\n",
    "The containers network together as illustrated below:\n",
    "![title](img/start_clipper.png)\n",
    "\n",
    "> *Because Docker must download the Docker images from the internet (if they are not already cached) before it can start the containers, the first time you run this command can take a long time to complete (up to a couple minutes) while the image is downloaded. Thanks for your patience.*\n",
    "\n",
    "If you try to start more than one Clipper cluster at once on the same host, the second execution of the command will fail because, by default, the second cluster will try to bind to the same ports as the first one. If you run into problems with the exercise and want to start over, see instructions on how to reset Clipper."
   ]
  },
  {
   "cell_type": "code",
   "execution_count": 37,
   "metadata": {},
   "outputs": [
    {
     "name": "stderr",
     "output_type": "stream",
     "text": [
      "18-08-08:14:11:04 INFO     [docker_container_manager.py:119] Starting managed Redis instance in Docker\n",
      "18-08-08:14:11:07 INFO     [clipper_admin.py:126] Clipper is running\n"
     ]
    }
   ],
   "source": [
    "clipper_conn.start_clipper()\n",
    "clipper_addr = clipper_conn.get_query_addr()"
   ]
  },
  {
   "cell_type": "markdown",
   "metadata": {},
   "source": [
    "## Deploying a model\n",
    "At its most basic, a trained model is just a function that takes some input and produces some output. As a result, one way to think about Clipper is as a function server. While these functions are often complex models, Clipper is not restricted to serving machine learning models.\n",
    "\n",
    "Deploying a model consists of two steps:\n",
    "1. Creating the model - Before a model can be deployed, it must first be written and trained.\n",
    "2. Deploying the model - Clipper offers a wide variety of deployers for standard ML packages to make deployment easier. In addition, it is possible to deploy packages such as XGBoost or Scikit-Learn using the default PythonClosureContainer, by specifying what packages to install, or to create your own model container.\n",
    "\n",
    "To start with, you will deploy a very simple model to Clipper. We'll start by clustering data with Scikit-Learn!"
   ]
  },
  {
   "cell_type": "markdown",
   "metadata": {},
   "source": [
    "### Creating a model\n",
    "We start by creating and training our model, which will be an 3 way classifier from sklearn."
   ]
  },
  {
   "cell_type": "code",
   "execution_count": 29,
   "metadata": {},
   "outputs": [
    {
     "data": {
      "image/png": "[encoded data removed]",
      "text/plain": [
       "<matplotlib.figure.Figure at 0x10ee8acf8>"
      ]
     },
     "metadata": {},
     "output_type": "display_data"
    }
   ],
   "source": [
    "import numpy as np\n",
    "import matplotlib.pyplot as plt\n",
    "from sklearn import linear_model, datasets\n",
    "\n",
    "np.random.seed(5)\n",
    "\n",
    "iris = datasets.load_iris()\n",
    "X = iris.data[:, :2]  # We only take the first two features.\n",
    "Y = iris.target\n",
    "\n",
    "h = .02  # Step size in the mesh\n",
    "\n",
    "model = linear_model.LogisticRegression(C=1e5)\n",
    "\n",
    "# We create an instance of Neighbours Classifier and fit the data.\n",
    "model.fit(X, Y)\n",
    "\n",
    "# Plot the decision boundary. For that, we will assign a color to each\n",
    "# point in the mesh [x_min, x_max]x[y_min, y_max].\n",
    "x_min, x_max = X[:, 0].min() - .5, X[:, 0].max() + .5\n",
    "y_min, y_max = X[:, 1].min() - .5, X[:, 1].max() + .5\n",
    "xx, yy = np.meshgrid(np.arange(x_min, x_max, h), np.arange(y_min, y_max, h))\n",
    "Z = model.predict(np.c_[xx.ravel(), yy.ravel()])\n",
    "\n",
    "# Put the result into a color plot\n",
    "Z = Z.reshape(xx.shape)\n",
    "plt.figure(1, figsize=(4, 3))\n",
    "plt.pcolormesh(xx, yy, Z, cmap=plt.cm.Paired)\n",
    "\n",
    "# Plot also the training points\n",
    "plt.scatter(X[:, 0], X[:, 1], c=Y, edgecolors='k', cmap=plt.cm.Paired)\n",
    "plt.xlabel('Sepal length')\n",
    "plt.ylabel('Sepal width')\n",
    "\n",
    "plt.xlim(xx.min(), xx.max())\n",
    "plt.ylim(yy.min(), yy.max())\n",
    "plt.xticks(())\n",
    "plt.yticks(())\n",
    "plt.title('3 Way Classifier')\n",
    "plt.show()"
   ]
  },
  {
   "cell_type": "markdown",
   "metadata": {},
   "source": [
    "Now that we have a model, we need to create the function that we will deploy to Clipper. We know that our function takes an array of length 2 - a petal width and a sepal length - and returns a label, so we can just define our `predict_label` function as shown below:"
   ]
  },
  {
   "cell_type": "code",
   "execution_count": 30,
   "metadata": {
    "collapsed": true
   },
   "outputs": [],
   "source": [
    "def predict_label(flower):\n",
    "    if (len(flower) != 2):\n",
    "        return 'Invalid argument passed!'\n",
    "    return model.predict(flower)"
   ]
  },
  {
   "cell_type": "markdown",
   "metadata": {},
   "source": [
    "To improve performance during inference, many machine learning models exploit opportunities for data parallelism in the inference process. Because of this, Clipper tries to provide multiple inputs at once to a deployed model. Therefore, models deployed to Clipper must have a function interface that takes a list of inputs as an argument and returns a list of predictions as strings. Returning predictions as strings provides a lot of flexibility over what your models can return. Commonly, models in Clipper will return either a single number (such as a label or score) or JSON containing a richer representation of the model output (for example, by including confidence estimates of predicted labels).\n",
    "\n",
    "Starting version 0.3.0, Clipper not only supports batching, but also performs adaptive batching. To perform adaptive batching, Clipper sends different batch sizes to models in order to determine which batch size is optimal, and therefore it is imperative to treat the input to the predict function as a batch. We will go into more detail about using batching with Clipper in a later section.\n",
    "\n",
    "We redefine our `predict_label` function, this time calling it `predict_flower`, to support this API. Since we are returning a string anyways, we might as well convert the labels given to us by our model to the corresponding flower name."
   ]
  },
  {
   "cell_type": "code",
   "execution_count": 33,
   "metadata": {
    "collapsed": true
   },
   "outputs": [],
   "source": [
    "def predict_flower(flowers):\n",
    "    labels = model.predict(flowers)\n",
    "    return ['Setosa' if l == 0 else 'Versicolour' if l == 2 else 'Virginica' for l in labels]"
   ]
  },
  {
   "cell_type": "code",
   "execution_count": 35,
   "metadata": {},
   "outputs": [],
   "source": [
    "# Just a quick test\n",
    "\n",
    "assert predict_flower([X[0], X[100]]) == ['Setosa', 'Versicolour']"
   ]
  },
  {
   "cell_type": "markdown",
   "metadata": {},
   "source": [
    "Now that we have a valid function, we proceed to the deployment stage!"
   ]
  },
  {
   "cell_type": "markdown",
   "metadata": {},
   "source": [
    "### Deploying a model"
   ]
  },
  {
   "cell_type": "markdown",
   "metadata": {},
   "source": [
    "One of the goals of Clipper is to make it simple to deploy and maintain machine-learning models in production. The prediction interface that models must implement is very simple, consisting of a single function. And the use of Docker makes it easy to include all of a model's dependencies in a self-contained environment. However, deploying a new type of model still entails writing and debugging a new model container and creating a Docker image.\n",
    "To make the model deployment process even simpler, Clipper provides a library of model deployers for common types of models. If your model can be deployed with one of these deployers, you no longer need to write a model container, create a Docker image, or even figure out how to save a model. Instead, you provide your trained model directly to the model deployer function within your Python process. The model deployer takes care of saving the model and building a Docker image that is compatible with your model type.\n",
    "\n",
    "Clipper provides model deployers for many common ML packages including PySpark, ONNX, TensorFlow, etc. In addition, Clipper provides a model deployer (the `PythonClosureContainer`) that can deploy arbitrary Python functions, and the ability to write custom containers for unsupported models.\n",
    "\n",
    "To keep the base images light, Clipper model containers install only the required dependencies to ensure that a basic model will run. Starting in version 0.3.0, users are also offered the ability to specify packages to install via pip on new model containers during their startup using the `pkgs_to_install` keyword argument. This feature is in all model containers, and today, we will use it with the `PythonClosureContainer` to deploy our Scikit-Learn model.\n",
    "\n",
    "Some models, such as those provided by Scikit-Learn or XGBoost, can be pickled, and require only that the packages are installed, and so these models can be deployed using the `PythonClosureContainer` and specifying that the packages are installed via the `pkgs_to_install` keyword argument, rather than creating custom model deployment containers.\n",
    "\n",
    "For more information about model deployers, check out the docs on our [site](http://clipper.ai)!"
   ]
  },
  {
   "cell_type": "code",
   "execution_count": 38,
   "metadata": {},
   "outputs": [
    {
     "name": "stderr",
     "output_type": "stream",
     "text": [
      "18-08-08:14:11:11 INFO     [deployer_utils.py:44] Saving function to /tmp/clipper/tmp582soptc\n",
      "18-08-08:14:11:11 INFO     [deployer_utils.py:54] Serialized and supplied predict function\n",
      "18-08-08:14:11:11 INFO     [python.py:192] Python closure saved\n",
      "18-08-08:14:11:11 INFO     [python.py:206] Using Python 3.6 base image\n",
      "18-08-08:14:11:11 INFO     [clipper_admin.py:452] Building model Docker image with model data from /tmp/clipper/tmp582soptc\n",
      "18-08-08:14:11:24 INFO     [clipper_admin.py:456] {'stream': 'Step 1/3 : FROM clipper/python36-closure-container:0.3.0'}\n",
      "18-08-08:14:11:24 INFO     [clipper_admin.py:456] {'stream': '\\n'}\n",
      "18-08-08:14:11:24 INFO     [clipper_admin.py:456] {'stream': ' ---> 74ba26b9a6ba\\n'}\n",
      "18-08-08:14:11:24 INFO     [clipper_admin.py:456] {'stream': 'Step 2/3 : COPY /tmp/clipper/tmp582soptc /model/'}\n",
      "18-08-08:14:11:24 INFO     [clipper_admin.py:456] {'stream': '\\n'}\n",
      "18-08-08:14:11:24 INFO     [clipper_admin.py:456] {'stream': ' ---> 0713e04b6954\\n'}\n",
      "18-08-08:14:11:24 INFO     [clipper_admin.py:456] {'stream': 'Step 3/3 : RUN apt-get -y install build-essential && pip install numpy scipy scikit-learn'}\n",
      "18-08-08:14:11:24 INFO     [clipper_admin.py:456] {'stream': '\\n'}\n",
      "18-08-08:14:11:24 INFO     [clipper_admin.py:456] {'stream': ' ---> Running in 8f379ffbfd5d\\n'}\n",
      "18-08-08:14:11:24 INFO     [clipper_admin.py:456] {'stream': 'Reading package lists...'}\n",
      "18-08-08:14:11:24 INFO     [clipper_admin.py:456] {'stream': '\\n'}\n",
      "18-08-08:14:11:24 INFO     [clipper_admin.py:456] {'stream': 'Building dependency tree...'}\n",
      "18-08-08:14:11:24 INFO     [clipper_admin.py:456] {'stream': '\\nReading state information...'}\n",
      "18-08-08:14:11:24 INFO     [clipper_admin.py:456] {'stream': '\\n'}\n",
      "18-08-08:14:11:24 INFO     [clipper_admin.py:456] {'stream': 'build-essential is already the newest version (12.3).\\n0 upgraded, 0 newly installed, 0 to remove and 1 not upgraded.\\n'}\n",
      "18-08-08:14:11:24 INFO     [clipper_admin.py:456] {'stream': 'Requirement already satisfied: numpy in /usr/local/lib/python3.6/site-packages (1.14.3)\\n'}\n",
      "18-08-08:14:11:24 INFO     [clipper_admin.py:456] {'stream': 'Collecting scipy\\n'}\n",
      "18-08-08:14:11:24 INFO     [clipper_admin.py:456] {'stream': '  Downloading https://files.pythonhosted.org/packages/a8/0b/f163da98d3a01b3e0ef1cab8dd2123c34aee2bafbb1c5bffa354cc8a1730/scipy-1.1.0-cp36-cp36m-manylinux1_x86_64.whl (31.2MB)\\n'}\n",
      "18-08-08:14:11:24 INFO     [clipper_admin.py:456] {'stream': 'Collecting scikit-learn\\n'}\n",
      "18-08-08:14:11:24 INFO     [clipper_admin.py:456] {'stream': '  Downloading https://files.pythonhosted.org/packages/f9/c8/8db4108aba5e2166cd2ea4eafa1a4b82f89240a1fa85733029cc2358ad1f/scikit_learn-0.19.2-cp36-cp36m-manylinux1_x86_64.whl (4.9MB)\\n'}\n",
      "18-08-08:14:11:24 INFO     [clipper_admin.py:456] {'stream': 'Installing collected packages: scipy, scikit-learn\\n'}\n",
      "18-08-08:14:11:24 INFO     [clipper_admin.py:456] {'stream': 'Successfully installed scikit-learn-0.19.2 scipy-1.1.0\\n'}\n",
      "18-08-08:14:11:24 INFO     [clipper_admin.py:456] {'stream': \"\\x1b[91mYou are using pip version 10.0.1, however version 18.0 is available.\\nYou should consider upgrading via the 'pip install --upgrade pip' command.\\n\\x1b[0m\"}\n",
      "18-08-08:14:11:24 INFO     [clipper_admin.py:456] {'stream': ' ---> 6480c3870843\\n'}\n",
      "18-08-08:14:11:24 INFO     [clipper_admin.py:456] {'aux': {'ID': 'sha256:6480c3870843cb6b4802a64ea6c9061b3f0f073b59a4588934986b1a93fe1025'}}\n",
      "18-08-08:14:11:24 INFO     [clipper_admin.py:456] {'stream': 'Successfully built 6480c3870843\\n'}\n",
      "18-08-08:14:11:24 INFO     [clipper_admin.py:456] {'stream': 'Successfully tagged flowercat:1\\n'}\n",
      "18-08-08:14:11:24 INFO     [clipper_admin.py:458] Pushing model Docker image to flowercat:1\n",
      "18-08-08:14:11:25 INFO     [docker_container_manager.py:257] Found 0 replicas for flowercat:1. Adding 1\n",
      "18-08-08:14:11:32 INFO     [clipper_admin.py:635] Successfully registered model flowercat:1\n",
      "18-08-08:14:11:32 INFO     [clipper_admin.py:553] Done deploying model flowercat:1.\n"
     ]
    }
   ],
   "source": [
    "from clipper_admin.deployers import python as python_deployer\n",
    "python_deployer.deploy_python_closure(\n",
    "    clipper_conn,\n",
    "    name=\"flowercat\",  # The name of the model in Clipper\n",
    "    version=1,  # A unique identifier to assign to this model.\n",
    "    input_type=\"floats\",  # The type of data the model function expects as input\n",
    "    func=predict_flower, # The model function to deploy\n",
    "    pkgs_to_install=['numpy', 'scipy', 'scikit-learn'] # Packages to install in the new container. Must be a list\n",
    ")"
   ]
  },
  {
   "cell_type": "markdown",
   "metadata": {},
   "source": [
    "Clipper deploys each model in its own Docker container. After deploying the model, Clipper uses the DockerContainerManager to start a container for this model and create an RPC connection with the Clipper query frontend, as illustrated below (the changes to the cluster are highlighted in red).\n",
    "\n",
    "> *Once again, Clipper must download a Docker container from the internet the first time this command is run.*\n",
    "\n",
    "![title](img/deploy_model.png)\n",
    "\n",
    "If you list the Clipper containers again, you can see the container running your word count model."
   ]
  },
  {
   "cell_type": "code",
   "execution_count": 39,
   "metadata": {},
   "outputs": [
    {
     "name": "stdout",
     "output_type": "stream",
     "text": [
      "CONTAINER ID        IMAGE                               COMMAND                  CREATED             STATUS                    PORTS                                            NAMES\r\n",
      "0612840303e8        flowercat:1                         \"/container/containe…\"   27 seconds ago      Up 26 seconds (healthy)                                                    flowercat_1-90909\r\n",
      "46c39dee9218        prom/prometheus:v2.1.0              \"/bin/prometheus --c…\"   46 seconds ago      Up 44 seconds             0.0.0.0:9090->9090/tcp                           metric_frontend-97847\r\n",
      "016ce6b9e3a3        clipper/frontend-exporter:0.3.0     \"python /usr/src/app…\"   46 seconds ago      Up 45 seconds                                                              query_frontend_exporter-89433\r\n",
      "e8ce812c9197        clipper/query_frontend:0.3.0        \"/clipper/release/sr…\"   47 seconds ago      Up 46 seconds             0.0.0.0:1337->1337/tcp, 0.0.0.0:7000->7000/tcp   query_frontend-89433\r\n",
      "1f27f5cb9c62        clipper/management_frontend:0.3.0   \"/clipper/release/sr…\"   47 seconds ago      Up 46 seconds             0.0.0.0:1338->1338/tcp                           mgmt_frontend-67816\r\n",
      "896337b691aa        redis:alpine                        \"docker-entrypoint.s…\"   48 seconds ago      Up 47 seconds             0.0.0.0:6379->6379/tcp                           redis-5720\r\n"
     ]
    }
   ],
   "source": [
    "!docker ps --filter label=ai.clipper.container.label"
   ]
  },
  {
   "cell_type": "markdown",
   "metadata": {},
   "source": [
    "#### A Note About Types [Optional]\n",
    "When you deploy models and register applications, you must specify the input type that the model or application expects. The type that you specify has implications for how Clipper manages input serialization and deserialization. From the user's perspective, the input type affects the behavior of Clipper in two places. In the \"input\" field of the request JSON body, applications will reject requests where the value of that field is the wrong type. And the deployed model function will be called with a list of inputs of the specified type.\n",
    "\n",
    "The input type can be one of the following types:\n",
    "\n",
    "* \"ints\": The value of the \"input\" field in a request must be a JSON list of ints. The model function will be called with a list of numpy arrays of type numpy.int.\n",
    "* \"floats\": The value of the \"input\" field in a request must be a JSON list of doubles. The model function will be called with a list of numpy arrays of type numpy.float32.\n",
    "* \"doubles\": The value of the \"input\" field in a request must be a JSON list of doubles. The model function will be called with a list of numpy arrays of type numpy.float64.\n",
    "* \"bytes\": The value of the \"input\" field in a request must be a Base64 encoded string. The model function will be called with a list of numpy arrays of type numpy.int8.\n",
    "* \"strings\": The value of the \"input\" field in a request must be a string. The model function will be called with a list of strings."
   ]
  },
  {
   "cell_type": "markdown",
   "metadata": {},
   "source": [
    "## Registering an Application\n",
    "You've now deployed a model to Clipper, but you don't have any way to query it yet. Instead of automatically creating a REST endpoint when you deploy a model, Clipper introduces a layer of indirection: the application. Clients query a specific application in Clipper, and the application routes the query to the correct model. This allows multiple applications to route queries to the same model, and allows a single application to route queries to multiple models.\n",
    "\n",
    "A single Clipper cluster can have many applications registered and many models deployed at once.\n",
    "\n",
    "When you register an application you configure certain elements of the application's behavior. These include:\n",
    "\n",
    "* The name to give the REST endpoint.\n",
    "* The input type that the application expects (Clipper will ensure applications only route requests to models with matching input types).\n",
    "* The latency service level objective (SLO) specified in microseconds. Clipper will manage how it schedules and routes queries for an application based on the specified service level objective. For example, Clipper will set the amount of time it allows requests to spend queued before being sent to the model based on the service level objective for the application requesting the prediction. In addition, Clipper will respond to requests by the end of the specified SLO, even if it has not received a prediction back from the model.\n",
    "* The default output: Clipper will respond with the default output to requests if a real prediction isn't available by the end of the service level objective.\n",
    "* (In the future) The selection policy: The default or user defined model selection policy to use when determining which models to route requests to.\n",
    "\n",
    "When you register an application with Clipper, it creates a REST endpoint for that application:\n",
    "\n",
    "```\n",
    "URL: /<app_name>/predict\n",
    "Method: POST\n",
    "Data Params: {\"input\": <input>}\n",
    "```\n",
    "\n",
    "To provide batch requests to clipper, you simply substitute `input` with `input_batch`. If both appear, `input` will be used, and `input_batch` ignored.\n",
    "\n",
    "```\n",
    "URL: /<app_name>/predict\n",
    "Method: POST\n",
    "Data Params: {\"input_batch\": <input_batch>}\n",
    "```\n",
    "\n",
    "![title](img/register_app.png)\n",
    "\n",
    "Register an application to query your KMeans model:"
   ]
  },
  {
   "cell_type": "code",
   "execution_count": 40,
   "metadata": {},
   "outputs": [
    {
     "name": "stderr",
     "output_type": "stream",
     "text": [
      "18-08-08:14:12:07 INFO     [clipper_admin.py:201] Application flowercat-app was successfully registered\n"
     ]
    }
   ],
   "source": [
    "clipper_conn.register_application(\n",
    "    name=\"flowercat-app\",\n",
    "    input_type=\"floats\",\n",
    "    default_output=\"Default\",\n",
    "    slo_micros=100000)"
   ]
  },
  {
   "cell_type": "markdown",
   "metadata": {},
   "source": [
    "Try querying the newly created application. We use Python in this example, but it can also be done with [curl](https://curl.haxx.se)!"
   ]
  },
  {
   "cell_type": "code",
   "execution_count": 41,
   "metadata": {},
   "outputs": [
    {
     "data": {
      "text/plain": [
       "{'default': True,\n",
       " 'default_explanation': 'No connected models found for query',\n",
       " 'output': 'Default',\n",
       " 'query_id': 0}"
      ]
     },
     "execution_count": 41,
     "metadata": {},
     "output_type": "execute_result"
    }
   ],
   "source": [
    "import requests, json\n",
    "response = requests.post(\n",
    "     \"http://%s/%s/predict\" % (clipper_addr, 'flowercat-app'),\n",
    "     headers={\"Content-type\": \"application/json\"},\n",
    "     data=json.dumps({\n",
    "         'input': list(X[0]),\n",
    "     }))\n",
    "result = response.json()\n",
    "result"
   ]
  },
  {
   "cell_type": "markdown",
   "metadata": {},
   "source": [
    "You should see that your application returned the default output of \"Default\". This is because even though you have deployed a model and registered an application, you have not told Clipper to route requests from the \"flowercat-app\" application to the \"flowercat\" model.\n",
    "\n",
    "You do this by linking the model to the application.\n",
    "\n",
    "![title](img/link_model.png)"
   ]
  },
  {
   "cell_type": "code",
   "execution_count": 42,
   "metadata": {},
   "outputs": [
    {
     "name": "stderr",
     "output_type": "stream",
     "text": [
      "18-08-08:14:12:13 INFO     [clipper_admin.py:263] Model flowercat is now linked to application flowercat-app\n"
     ]
    }
   ],
   "source": [
    "clipper_conn.link_model_to_app(app_name=\"flowercat-app\", model_name=\"flowercat\")"
   ]
  },
  {
   "cell_type": "markdown",
   "metadata": {},
   "source": [
    "When you query the \"wordcount-app\" endpoint again, Clipper should return the correct word count. Try it with your own input."
   ]
  },
  {
   "cell_type": "code",
   "execution_count": 43,
   "metadata": {},
   "outputs": [
    {
     "data": {
      "text/plain": [
       "{'default': False, 'output': 'Setosa', 'query_id': 1}"
      ]
     },
     "execution_count": 43,
     "metadata": {},
     "output_type": "execute_result"
    }
   ],
   "source": [
    "response = requests.post(\n",
    "     \"http://%s/%s/predict\" % (clipper_addr, 'flowercat-app'),\n",
    "     headers={\"Content-type\": \"application/json\"},\n",
    "     data=json.dumps({\n",
    "         'input': list(X[0]),\n",
    "     }))\n",
    "result = response.json()\n",
    "result"
   ]
  },
  {
   "cell_type": "markdown",
   "metadata": {},
   "source": [
    "## Inspecting Clipper\n",
    "The ClipperConnection object has several methods to inspect various aspects of the Clipper cluster.\n",
    "\n",
    "You can list all of the applications."
   ]
  },
  {
   "cell_type": "code",
   "execution_count": 44,
   "metadata": {},
   "outputs": [
    {
     "data": {
      "text/plain": [
       "[{'default_output': 'Default',\n",
       "  'input_type': 'floats',\n",
       "  'latency_slo_micros': 100000,\n",
       "  'linked_models': ['flowercat'],\n",
       "  'name': 'flowercat-app'}]"
      ]
     },
     "execution_count": 44,
     "metadata": {},
     "output_type": "execute_result"
    }
   ],
   "source": [
    "clipper_conn.get_all_apps(verbose=True)"
   ]
  },
  {
   "cell_type": "markdown",
   "metadata": {},
   "source": [
    "Or all of the models."
   ]
  },
  {
   "cell_type": "code",
   "execution_count": 45,
   "metadata": {},
   "outputs": [
    {
     "data": {
      "text/plain": [
       "[{'container_name': 'flowercat:1',\n",
       "  'input_type': 'floats',\n",
       "  'is_current_version': True,\n",
       "  'labels': [''],\n",
       "  'model_data_path': 'DEPRECATED',\n",
       "  'model_name': 'flowercat',\n",
       "  'model_version': '1'}]"
      ]
     },
     "execution_count": 45,
     "metadata": {},
     "output_type": "execute_result"
    }
   ],
   "source": [
    "clipper_conn.get_all_models(verbose=True)"
   ]
  },
  {
   "cell_type": "markdown",
   "metadata": {},
   "source": [
    "Clipper also tracks several performance metrics that you can inspect at any time, as well as allows you to deploy your own custom metrics."
   ]
  },
  {
   "cell_type": "code",
   "execution_count": 46,
   "metadata": {},
   "outputs": [
    {
     "data": {
      "text/plain": [
       "{'counters': [{'internal:prediction_cache_lookups': {'count': '1'}},\n",
       "  {'internal:aggregate_num_predictions': {'count': '1'}},\n",
       "  {'model:flowercat:1:num_predictions': {'count': '2'}},\n",
       "  {'app:flowercat-app:num_predictions': {'count': '2'}}],\n",
       " 'histograms': [{'internal:rpc_request_queueing_delay': {'max': '70',\n",
       "    'mean': '70',\n",
       "    'min': '70',\n",
       "    'p50': '70',\n",
       "    'p95': '70',\n",
       "    'p99': '70',\n",
       "    'size': '1',\n",
       "    'std_dev': '0',\n",
       "    'unit': 'microseconds'}},\n",
       "  {'model:flowercat:1:prediction_latency': {'max': '17756',\n",
       "    'mean': '17756',\n",
       "    'min': '17756',\n",
       "    'p50': '17756',\n",
       "    'p95': '17756',\n",
       "    'p99': '17756',\n",
       "    'size': '2',\n",
       "    'std_dev': '0',\n",
       "    'unit': 'microseconds'}},\n",
       "  {'model:flowercat:1:batch_size': {'max': '2',\n",
       "    'mean': '2',\n",
       "    'min': '2',\n",
       "    'p50': '2',\n",
       "    'p95': '2',\n",
       "    'p99': '2',\n",
       "    'size': '1',\n",
       "    'std_dev': '0',\n",
       "    'unit': 'queries'}},\n",
       "  {'app:flowercat-app:prediction_latency': {'max': '17961',\n",
       "    'mean': '9235.5',\n",
       "    'min': '510',\n",
       "    'p50': '9235.5',\n",
       "    'p95': '17961',\n",
       "    'p99': '17961',\n",
       "    'size': '2',\n",
       "    'std_dev': '8725.5',\n",
       "    'unit': 'microseconds'}}],\n",
       " 'meters': [{'internal:aggregate_model_throughput': {'rate': '0.025801228112656935',\n",
       "    'rate_15min': '0.00220378348438977',\n",
       "    'rate_1min': '0.029425075895483658',\n",
       "    'rate_5min': '0.0065021413358446346',\n",
       "    'unit': 'events per second'}},\n",
       "  {'model:flowercat:1:prediction_throughput': {'rate': '0.03587676968220662',\n",
       "    'rate_15min': '0.00220378348438977',\n",
       "    'rate_1min': '0.029425075895483658',\n",
       "    'rate_5min': '0.0065021413358446346',\n",
       "    'unit': 'events per second'}},\n",
       "  {'app:flowercat-app:prediction_throughput': {'rate': '0.12430174272907833',\n",
       "    'rate_15min': '0.19889196960097935',\n",
       "    'rate_1min': '0.18400888292586468',\n",
       "    'rate_5min': '0.19669429076432351',\n",
       "    'unit': 'events per second'}}],\n",
       " 'ratio_counters': [{'internal:prediction_cache_hit_ratio': {'ratio': '0'}},\n",
       "  {'model:flowercat:1:cache_hit_ratio': {'ratio': '0'}},\n",
       "  {'app:flowercat-app:default_prediction_ratio': {'ratio': '0.5'}}]}"
      ]
     },
     "execution_count": 46,
     "metadata": {},
     "output_type": "execute_result"
    }
   ],
   "source": [
    "clipper_conn.inspect_instance()"
   ]
  },
  {
   "cell_type": "markdown",
   "metadata": {},
   "source": [
    "You can also fetch the raw container logs from all of the Clipper docker containers. The command will print the paths to the log files for further examination. You can figure out which logs belong to which container based on the unique Docker container ID in the log filename."
   ]
  },
  {
   "cell_type": "code",
   "execution_count": 47,
   "metadata": {},
   "outputs": [
    {
     "name": "stderr",
     "output_type": "stream",
     "text": [
      "18-08-08:14:12:24 INFO     [docker_container_manager.py:295] Created logging directory: /Users/RehanDurrani/Documents/clipper-tutorials/clipper_logs\n"
     ]
    },
    {
     "data": {
      "text/plain": [
       "['/Users/RehanDurrani/Documents/clipper-tutorials/clipper_logs/image_sha256:6480c38708:container_0612840303.log',\n",
       " '/Users/RehanDurrani/Documents/clipper-tutorials/clipper_logs/image_sha256:c8ecf7c719:container_46c39dee92.log',\n",
       " '/Users/RehanDurrani/Documents/clipper-tutorials/clipper_logs/image_sha256:c29b40eb63:container_016ce6b9e3.log',\n",
       " '/Users/RehanDurrani/Documents/clipper-tutorials/clipper_logs/image_sha256:7eefa1a263:container_e8ce812c91.log',\n",
       " '/Users/RehanDurrani/Documents/clipper-tutorials/clipper_logs/image_sha256:3d960da25d:container_1f27f5cb9c.log',\n",
       " '/Users/RehanDurrani/Documents/clipper-tutorials/clipper_logs/image_sha256:4a1adec0b3:container_896337b691.log']"
      ]
     },
     "execution_count": 47,
     "metadata": {},
     "output_type": "execute_result"
    }
   ],
   "source": [
    "clipper_conn.get_clipper_logs()"
   ]
  },
  {
   "cell_type": "markdown",
   "metadata": {},
   "source": [
    "## Updating the Model\n",
    "Machine learning models are rarely static. Instead, data science tends to be an iterative process, with new and improved models being developed over time. Clipper supports this workflow by letting you deploy new versions of models. If you look back to where you linked your flowercat model to the application, you'll see that there is no mention of versioning in that method call. Instead, when a new version of a model is deployed, Clipper will automatically start routing requests to the new version.\n",
    "\n",
    "Create a new version of the \"flowercat\" model that returns the probabilities that an input is in each class instead."
   ]
  },
  {
   "cell_type": "code",
   "execution_count": 52,
   "metadata": {},
   "outputs": [],
   "source": [
    "def new_predict_flower(flowers):\n",
    "    return model.predict_proba(flowers)"
   ]
  },
  {
   "cell_type": "code",
   "execution_count": 53,
   "metadata": {},
   "outputs": [
    {
     "data": {
      "text/plain": [
       "array([[ 0.9058239 ,  0.0681672 ,  0.02600889]])"
      ]
     },
     "execution_count": 53,
     "metadata": {},
     "output_type": "execute_result"
    }
   ],
   "source": [
    "new_predict_flower([X[0]])"
   ]
  },
  {
   "cell_type": "markdown",
   "metadata": {},
   "source": [
    "Deploy this new version of the function as version \"2\". For this application, you are using a numeric versioning scheme. But Clipper just treats versions as unique string identifiers, so you could use other versioning schemes (such as Git hashes or semantic versioning). Versions don't even have to be ordered, Clipper just tracks the currently active version.\n",
    "\n",
    "![title](img/update_model.png)\n"
   ]
  },
  {
   "cell_type": "code",
   "execution_count": 54,
   "metadata": {},
   "outputs": [
    {
     "name": "stderr",
     "output_type": "stream",
     "text": [
      "18-08-08:14:16:00 INFO     [deployer_utils.py:44] Saving function to /tmp/clipper/tmp5pgek8xp\n",
      "18-08-08:14:16:00 INFO     [deployer_utils.py:54] Serialized and supplied predict function\n",
      "18-08-08:14:16:00 INFO     [python.py:192] Python closure saved\n",
      "18-08-08:14:16:00 INFO     [python.py:206] Using Python 3.6 base image\n",
      "18-08-08:14:16:00 INFO     [clipper_admin.py:452] Building model Docker image with model data from /tmp/clipper/tmp5pgek8xp\n",
      "18-08-08:14:16:12 INFO     [clipper_admin.py:456] {'stream': 'Step 1/3 : FROM clipper/python36-closure-container:0.3.0'}\n",
      "18-08-08:14:16:12 INFO     [clipper_admin.py:456] {'stream': '\\n'}\n",
      "18-08-08:14:16:12 INFO     [clipper_admin.py:456] {'stream': ' ---> 74ba26b9a6ba\\n'}\n",
      "18-08-08:14:16:12 INFO     [clipper_admin.py:456] {'stream': 'Step 2/3 : COPY /tmp/clipper/tmp5pgek8xp /model/'}\n",
      "18-08-08:14:16:12 INFO     [clipper_admin.py:456] {'stream': '\\n'}\n",
      "18-08-08:14:16:12 INFO     [clipper_admin.py:456] {'stream': ' ---> 95e7fb7b74ec\\n'}\n",
      "18-08-08:14:16:12 INFO     [clipper_admin.py:456] {'stream': 'Step 3/3 : RUN apt-get -y install build-essential && pip install numpy scipy scikit-learn'}\n",
      "18-08-08:14:16:12 INFO     [clipper_admin.py:456] {'stream': '\\n'}\n",
      "18-08-08:14:16:12 INFO     [clipper_admin.py:456] {'stream': ' ---> Running in 0eec6f212bd0\\n'}\n",
      "18-08-08:14:16:12 INFO     [clipper_admin.py:456] {'stream': 'Reading package lists...'}\n",
      "18-08-08:14:16:12 INFO     [clipper_admin.py:456] {'stream': '\\n'}\n",
      "18-08-08:14:16:12 INFO     [clipper_admin.py:456] {'stream': 'Building dependency tree...'}\n",
      "18-08-08:14:16:12 INFO     [clipper_admin.py:456] {'stream': '\\nReading state information...\\n'}\n",
      "18-08-08:14:16:12 INFO     [clipper_admin.py:456] {'stream': 'build-essential is already the newest version (12.3).\\n0 upgraded, 0 newly installed, 0 to remove and 1 not upgraded.\\n'}\n",
      "18-08-08:14:16:12 INFO     [clipper_admin.py:456] {'stream': 'Requirement already satisfied: numpy in /usr/local/lib/python3.6/site-packages (1.14.3)\\n'}\n",
      "18-08-08:14:16:12 INFO     [clipper_admin.py:456] {'stream': 'Collecting scipy\\n'}\n",
      "18-08-08:14:16:12 INFO     [clipper_admin.py:456] {'stream': '  Downloading https://files.pythonhosted.org/packages/a8/0b/f163da98d3a01b3e0ef1cab8dd2123c34aee2bafbb1c5bffa354cc8a1730/scipy-1.1.0-cp36-cp36m-manylinux1_x86_64.whl (31.2MB)\\n'}\n",
      "18-08-08:14:16:12 INFO     [clipper_admin.py:456] {'stream': 'Collecting scikit-learn\\n'}\n",
      "18-08-08:14:16:12 INFO     [clipper_admin.py:456] {'stream': '  Downloading https://files.pythonhosted.org/packages/f9/c8/8db4108aba5e2166cd2ea4eafa1a4b82f89240a1fa85733029cc2358ad1f/scikit_learn-0.19.2-cp36-cp36m-manylinux1_x86_64.whl (4.9MB)\\n'}\n",
      "18-08-08:14:16:12 INFO     [clipper_admin.py:456] {'stream': 'Installing collected packages: scipy, scikit-learn\\n'}\n",
      "18-08-08:14:16:12 INFO     [clipper_admin.py:456] {'stream': 'Successfully installed scikit-learn-0.19.2 scipy-1.1.0\\n'}\n",
      "18-08-08:14:16:12 INFO     [clipper_admin.py:456] {'stream': \"\\x1b[91mYou are using pip version 10.0.1, however version 18.0 is available.\\nYou should consider upgrading via the 'pip install --upgrade pip' command.\\n\\x1b[0m\"}\n",
      "18-08-08:14:16:12 INFO     [clipper_admin.py:456] {'stream': ' ---> ca269af17c94\\n'}\n",
      "18-08-08:14:16:12 INFO     [clipper_admin.py:456] {'aux': {'ID': 'sha256:ca269af17c94cb7b8f58690cf04624503d0c28f9b1ed8dc94942f91d227feb63'}}\n",
      "18-08-08:14:16:12 INFO     [clipper_admin.py:456] {'stream': 'Successfully built ca269af17c94\\n'}\n",
      "18-08-08:14:16:12 INFO     [clipper_admin.py:456] {'stream': 'Successfully tagged flowercat:2\\n'}\n",
      "18-08-08:14:16:12 INFO     [clipper_admin.py:458] Pushing model Docker image to flowercat:2\n",
      "18-08-08:14:16:13 INFO     [docker_container_manager.py:257] Found 0 replicas for flowercat:2. Adding 1\n",
      "18-08-08:14:16:20 INFO     [clipper_admin.py:635] Successfully registered model flowercat:2\n",
      "18-08-08:14:16:20 INFO     [clipper_admin.py:553] Done deploying model flowercat:2.\n"
     ]
    }
   ],
   "source": [
    "python_deployer.deploy_python_closure(\n",
    "    clipper_conn,\n",
    "    name=\"flowercat\",  # The name of the model in Clipper\n",
    "    version=2,  # A unique identifier to assign to this model.\n",
    "    input_type=\"floats\",  # The type of data the model function expects as input\n",
    "    func=new_predict_flower, # The model function to deploy\n",
    "    pkgs_to_install=['numpy', 'scipy', 'scikit-learn'] # Packages to install in the new container. Must be a list\n",
    ")"
   ]
  },
  {
   "cell_type": "code",
   "execution_count": 55,
   "metadata": {},
   "outputs": [
    {
     "data": {
      "text/plain": [
       "{'default': False,\n",
       " 'output': '[0.90582391 0.0681672  0.02600889]',\n",
       " 'query_id': 2}"
      ]
     },
     "execution_count": 55,
     "metadata": {},
     "output_type": "execute_result"
    }
   ],
   "source": [
    "response = requests.post(\n",
    "     \"http://%s/%s/predict\" % (clipper_addr, 'flowercat-app'),\n",
    "     headers={\"Content-type\": \"application/json\"},\n",
    "     data=json.dumps({\n",
    "         'input': list(X[0]),\n",
    "     }))\n",
    "result = response.json()\n",
    "result"
   ]
  },
  {
   "cell_type": "markdown",
   "metadata": {},
   "source": [
    "Sometimes the \"new and improved\" model is not actually improved. If you deploy a model that isn't working well, you can roll back to any previous version. This just changes which version of the model application's route requests to.\n",
    "\n",
    "![title](img/rollback_version.png)"
   ]
  },
  {
   "cell_type": "code",
   "execution_count": 56,
   "metadata": {
    "collapsed": true
   },
   "outputs": [],
   "source": [
    "clipper_conn.set_model_version(name=\"flowercat\", version=\"1\")"
   ]
  },
  {
   "cell_type": "code",
   "execution_count": 57,
   "metadata": {},
   "outputs": [
    {
     "data": {
      "text/plain": [
       "{'default': False, 'output': 'Setosa', 'query_id': 3}"
      ]
     },
     "execution_count": 57,
     "metadata": {},
     "output_type": "execute_result"
    }
   ],
   "source": [
    "response = requests.post(\n",
    "     \"http://%s/%s/predict\" % (clipper_addr, 'flowercat-app'),\n",
    "     headers={\"Content-type\": \"application/json\"},\n",
    "     data=json.dumps({\n",
    "         'input': list(X[0]),\n",
    "     }))\n",
    "result = response.json()\n",
    "result"
   ]
  },
  {
   "cell_type": "markdown",
   "metadata": {},
   "source": [
    "## Adding Model Replicas\n",
    "Many machine learning models are computationally expensive and a single instance of the model may not meet the throughput demands of a serving workload. To increase prediction throughput, you can add additional replicas of a model. This creates additional Docker containers running the same model. Clipper will act as a load-balancer and distribute incoming requests across the set of available model replicas to provide higher throughput.\n",
    "\n",
    "Set the number of replicas for the currently active version (\"1\") of the \"wordcount\" model to 4.\n",
    "\n",
    "![title](img/add_replicas.png)"
   ]
  },
  {
   "cell_type": "code",
   "execution_count": 58,
   "metadata": {},
   "outputs": [
    {
     "name": "stderr",
     "output_type": "stream",
     "text": [
      "18-08-08:14:16:36 INFO     [docker_container_manager.py:257] Found 1 replicas for flowercat:1. Adding 3\n"
     ]
    }
   ],
   "source": [
    "clipper_conn.set_num_replicas(\"flowercat\", num_replicas=4)"
   ]
  },
  {
   "cell_type": "markdown",
   "metadata": {},
   "source": [
    "If you list the Clipper Docker containers, you should now see four containers based on the image \"flowercat:1\"."
   ]
  },
  {
   "cell_type": "code",
   "execution_count": 59,
   "metadata": {},
   "outputs": [
    {
     "name": "stdout",
     "output_type": "stream",
     "text": [
      "CONTAINER ID        IMAGE                               COMMAND                  CREATED             STATUS                    PORTS                                            NAMES\r\n",
      "09baa2c4c0b4        flowercat:1                         \"/container/containe…\"   4 seconds ago       Up 3 seconds (healthy)                                                     flowercat_1-50819\r\n",
      "f86aefd69899        flowercat:1                         \"/container/containe…\"   5 seconds ago       Up 4 seconds (healthy)                                                     flowercat_1-87296\r\n",
      "92b73f812a5c        flowercat:1                         \"/container/containe…\"   5 seconds ago       Up 4 seconds (healthy)                                                     flowercat_1-679\r\n",
      "bd8b97ff9a65        flowercat:2                         \"/container/containe…\"   29 seconds ago      Up 28 seconds (healthy)                                                    flowercat_2-12363\r\n",
      "0612840303e8        flowercat:1                         \"/container/containe…\"   5 minutes ago       Up 5 minutes (healthy)                                                     flowercat_1-90909\r\n",
      "46c39dee9218        prom/prometheus:v2.1.0              \"/bin/prometheus --c…\"   5 minutes ago       Up 5 minutes              0.0.0.0:9090->9090/tcp                           metric_frontend-97847\r\n",
      "016ce6b9e3a3        clipper/frontend-exporter:0.3.0     \"python /usr/src/app…\"   5 minutes ago       Up 5 minutes                                                               query_frontend_exporter-89433\r\n",
      "e8ce812c9197        clipper/query_frontend:0.3.0        \"/clipper/release/sr…\"   5 minutes ago       Up 5 minutes              0.0.0.0:1337->1337/tcp, 0.0.0.0:7000->7000/tcp   query_frontend-89433\r\n",
      "1f27f5cb9c62        clipper/management_frontend:0.3.0   \"/clipper/release/sr…\"   5 minutes ago       Up 5 minutes              0.0.0.0:1338->1338/tcp                           mgmt_frontend-67816\r\n",
      "896337b691aa        redis:alpine                        \"docker-entrypoint.s…\"   5 minutes ago       Up 5 minutes              0.0.0.0:6379->6379/tcp                           redis-5720\r\n"
     ]
    }
   ],
   "source": [
    "!docker ps --filter label=ai.clipper.container.label"
   ]
  },
  {
   "cell_type": "markdown",
   "metadata": {},
   "source": [
    "If you want to reduce the number of replicas of a model to free up hardware resource, you can use the same command.\n",
    "\n",
    "Set the number of replicas for \"flowercat\" back to 1.\n",
    "\n",
    "![title](img/set_replicas.png)"
   ]
  },
  {
   "cell_type": "code",
   "execution_count": 60,
   "metadata": {},
   "outputs": [
    {
     "name": "stderr",
     "output_type": "stream",
     "text": [
      "18-08-08:14:17:24 INFO     [docker_container_manager.py:278] Found 4 replicas for flowercat:1. Removing 3\n"
     ]
    }
   ],
   "source": [
    "clipper_conn.set_num_replicas(\"flowercat\", num_replicas=1)"
   ]
  },
  {
   "cell_type": "code",
   "execution_count": 61,
   "metadata": {},
   "outputs": [
    {
     "name": "stdout",
     "output_type": "stream",
     "text": [
      "CONTAINER ID        IMAGE                               COMMAND                  CREATED              STATUS                        PORTS                                            NAMES\r\n",
      "09baa2c4c0b4        flowercat:1                         \"/container/containe…\"   About a minute ago   Up About a minute (healthy)                                                    flowercat_1-50819\r\n",
      "bd8b97ff9a65        flowercat:2                         \"/container/containe…\"   About a minute ago   Up About a minute (healthy)                                                    flowercat_2-12363\r\n",
      "46c39dee9218        prom/prometheus:v2.1.0              \"/bin/prometheus --c…\"   6 minutes ago        Up 6 minutes                  0.0.0.0:9090->9090/tcp                           metric_frontend-97847\r\n",
      "016ce6b9e3a3        clipper/frontend-exporter:0.3.0     \"python /usr/src/app…\"   6 minutes ago        Up 6 minutes                                                                   query_frontend_exporter-89433\r\n",
      "e8ce812c9197        clipper/query_frontend:0.3.0        \"/clipper/release/sr…\"   6 minutes ago        Up 6 minutes                  0.0.0.0:1337->1337/tcp, 0.0.0.0:7000->7000/tcp   query_frontend-89433\r\n",
      "1f27f5cb9c62        clipper/management_frontend:0.3.0   \"/clipper/release/sr…\"   6 minutes ago        Up 6 minutes                  0.0.0.0:1338->1338/tcp                           mgmt_frontend-67816\r\n",
      "896337b691aa        redis:alpine                        \"docker-entrypoint.s…\"   6 minutes ago        Up 6 minutes                  0.0.0.0:6379->6379/tcp                           redis-5720\r\n"
     ]
    }
   ],
   "source": [
    "!docker ps --filter label=ai.clipper.container.label"
   ]
  }
 ],
 "metadata": {
  "kernelspec": {
   "display_name": "Python 3",
   "language": "python",
   "name": "python3"
  },
  "language_info": {
   "codemirror_mode": {
    "name": "ipython",
    "version": 3
   },
   "file_extension": ".py",
   "mimetype": "text/x-python",
   "name": "python",
   "nbconvert_exporter": "python",
   "pygments_lexer": "ipython3",
   "version": "3.6.1"
  }
 },
 "nbformat": 4,
 "nbformat_minor": 2
}
