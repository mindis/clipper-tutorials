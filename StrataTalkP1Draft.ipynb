{
 "cells": [
  {
   "cell_type": "markdown",
   "metadata": {},
   "source": [
    "# Table of Contents\n",
    "<div class=\"toc\" style=\"margin-top: 1em;\">\n",
    "   <ul class=\"toc-item\" id=\"toc-level0\">\n",
    "      <li>\n",
    "         <span><a href=\"#API-Overview\" data-toc-modified-id=\"API-Overview-1\"><span class=\"toc-item-num\">1.&nbsp;&nbsp;</span>API Overview</a></span>\n",
    "         <ul class=\"toc-item\">\n",
    "            <li><span><a href=\"#Context\" data-toc-modified-id=\"Context-1.1\"><span class=\"toc-item-num\">1.1&nbsp;&nbsp;</span>Context</a></span></li>\n",
    "            <li><span><a href=\"#Creating-a-ClipperConnection\" data-toc-modified-id=\"Create-a-ClipperConnection-1.2\"><span class=\"toc-item-num\">1.2&nbsp;&nbsp;</span>Creating a ClipperConnection</a></span></li>\n",
    "            <li><span><a href=\"#Starting-Clipper\" data-toc-modified-id=\"Starting-Clipper-1.3\"><span class=\"toc-item-num\">1.3&nbsp;&nbsp;</span>Starting Clipper</a></span></li>\n",
    "            <li>\n",
    "               <span><a href=\"#Deploying-a-model\" data-toc-modified-id=\"Deploying-a-model-1.4\"><span class=\"toc-item-num\">1.4&nbsp;&nbsp;</span>Deploying a model</a></span>\n",
    "               <ul class=\"toc-item\">\n",
    "                  <li>\n",
    "                     <span><a href=\"#Creating-a-model\" data-toc-modified-id=\"Create-the-model-1.4.1\"><span class=\"toc-item-num\">1.4.1&nbsp;&nbsp;</span>Creating a model</a></span>\n",
    "                  </li>\n",
    "                  <li><span><a href=\"#Deploying-to-Clipper\" data-toc-modified-id=\"Deploying-to-Clipper-1.4.2\"><span class=\"toc-item-num\">1.4.2&nbsp;&nbsp;</span>Deploying to Clipper</a></span></li>\n",
    "                  <li><span><a href=\"#A-Note-About-Types-[Optional]\" data-toc-modified-id=\"A-Note-About-Types-[Optional]-1.4.3\"><span class=\"toc-item-num\">1.4.3&nbsp;&nbsp;</span>A Note About Types [Optional]</a></span></li>\n",
    "               </ul>\n",
    "            </li>\n",
    "            <li><span><a href=\"#Registering-an-Application\" data-toc-modified-id=\"Registering-an-Application-1.5\"><span class=\"toc-item-num\">1.5&nbsp;&nbsp;</span>Registering an Application</a></span></li>\n",
    "            <li><span><a href=\"#Inspecting-Clipper\" data-toc-modified-id=\"Inspecting-Clipper-1.6\"><span class=\"toc-item-num\">1.6&nbsp;&nbsp;</span>Inspecting Clipper</a></span></li>\n",
    "            <li><span><a href=\"#Updating-the-Model\" data-toc-modified-id=\"Updating-the-Model-1.7\"><span class=\"toc-item-num\">1.7&nbsp;&nbsp;</span>Updating the Model</a></span></li>\n",
    "            <li><span><a href=\"#Adding-Model-Replicas\" data-toc-modified-id=\"Adding-Model-Replicas-1.8\"><span class=\"toc-item-num\">1.8&nbsp;&nbsp;</span>Adding Model Replicas</a></span></li>\n",
    "         </ul>\n",
    "      </li>\n",
    "<li>\n",
    "         <span><a href=\"#Example-Application---Image-Classification\" data-toc-modified-id=\"Example-Application---Image-Classification\"><span class=\"toc-item-num\">2.&nbsp;&nbsp;</span>Example Application - Image Classification</a></span>\n",
    "      <li><span><a href=\"#Example-Application---Custom-Docker-Containers\" data-toc-modified-id=\"Example-Application---Custom-Docker-Containers\"><span class=\"toc-item-num\">3.&nbsp;&nbsp;</span>Example Application - Custom Docker Containers</a></span></li>\n",
    "      <li><span><a href=\"#Restarting-Clipper\" data-toc-modified-id=\"Restarting-Clipper\"><span class=\"toc-item-num\">4.&nbsp;&nbsp;</span>Restarting Clipper</a></span></li>\n",
    "   </ul>\n",
    "</div>"
   ]
  },
  {
   "cell_type": "markdown",
   "metadata": {},
   "source": [
    "<a id='api_overview'></a>\n",
    "## API Overview\n",
    "\n",
    "In the first part of this exercise, you will explore how to create and interact with a Clipper cluster. The primary way of managing Clipper is with the Clipper Admin Python tool. This tutorial will walk you through all the things you can do with the Clipper Admin tool as well as explain what happens within Clipper when you issue each command. You can find the complete API documentation for the Clipper Admin tool on our website: <http://docs.clipper.ai>.\n",
    "\n",
    "**Goal:** Be familiar with how to create and manage a Clipper cluster, and understand what happens when you issue Clipper admin commands."
   ]
  },
  {
   "cell_type": "markdown",
   "metadata": {},
   "source": [
    "### Context\n",
    "The Clipper Admin tool is distributed through Pip. You can install it with `pip install clipper_admin`, but it has already been installed in this notebook for you, in the first cell.\n",
    "\n",
    "Clipper is built on top of Docker containers. A running Clipper cluster consists of a collection of Docker containers communicating with each other over the network. As you issue commands against Clipper, you are communicating with these containers as well as creating new ones or destroying existing ones. As you explore the Clipper API throughout this exercise, we will illustrate how each command effects the cluster state.\n",
    "\n",
    "The main API for interacting with Clipper is exposed via a [`ClipperConnection`](http://docs.clipper.ai/en/develop/#clipper-connection) object. This is your handle to a Clipper cluster (this collection of Docker containers). It can be used to start, stop, inspect, and modify the cluster.\n",
    "\n",
    "In order to create a `ClipperConnection` object, you must provide it with a [`ContainerManager`](http://docs.clipper.ai/en/develop/#container-managers) object. While Docker is becoming an increasingly standard mechanism for deploying applications, there are many different tools for managing a Docker cluster. These tools broadly fall into the category of *Container Orchestration frameworks*. Some popular examples are [Kubernetes](https://kubernetes.io/), [Docker Swarm](https://docs.docker.com/engine/swarm/), and [DC/OS](https://dcos.io/). One of the reasons we run Clipper in Docker containers is to make the system as general as possible and support many different deployment scenarios. Within the Clipper Admin, we abstract away all of the Docker container-specific commands behind the `ContainerManager` interface. The `ClipperConnection` object makes Clipper-specific decisions about how to issue commands, and then makes any changes to the Docker configuration (for example, to launch a container for a newly deployed model) through the `ContainerManager`. To support different container orchestration frameworks that manage Docker containers in different ways, we create different implementations of the `ContainerManager` interface.\n",
    "\n",
    "Clipper currently provides two `ContainerManager` implementations: the `DockerContainerManager` and the `KubernetesContainerManager`. In this exercise, you will be using the `DockerContainerManager`, which runs Clipper directly on your local Docker instance. This `ContainerManager` is particularly useful for trying out Clipper without needing to set up an enterprise-grade container orchestration framework. The `DockerContainerManager` is not recommended for production use cases."
   ]
  },
  {
   "cell_type": "markdown",
   "metadata": {},
   "source": [
    "### Creating a ClipperConnection\n",
    "To beginn using Clipper, we must first create a [`ClipperConnection`](http://docs.clipper.ai/en/develop/#clipper-connection) object. With the type of `ContainerManager` you want to use. It is important to note that creating a new connection object does not connect to Clipper - a good thing because there is no running Clipper instance to connect to!\n",
    "\n",
    "Before we connect, we need to start Clipper - which we will address in the next step.\n",
    "\n",
    "Returning to the process of creating a new connection object, we realize that the first step is to create a `DockerContainerManager` object. The `DockerContainerManager` constructor takes `docker_ip_address` as a keyword argument. Generally, since we want the Clipper cluster to be run locally, we can omit this argument, as its default value is `127.0.0.1`, which will suit our purposes in this case as well."
   ]
  },
  {
   "cell_type": "code",
   "execution_count": 1,
   "metadata": {
    "collapsed": true
   },
   "outputs": [],
   "source": [
    "from clipper_admin import ClipperConnection, DockerContainerManager\n",
    "clipper_conn = ClipperConnection(DockerContainerManager())"
   ]
  },
  {
   "cell_type": "markdown",
   "metadata": {},
   "source": [
    "### Starting Clipper\n",
    "Now that we have a `ClipperConnection` object, we must start Clipper to provide it an endpoint to connect to.\n",
    "\n",
    "This command will start 3 Docker containers:\n",
    "1. The Query Frontend: The Query Frontend container listens for incoming prediction requests and schedules and routes them to the deployed models. In the future, it will also be able to call user defined model selection policies on prediction requests to decide which models to route to.\n",
    "2. The Management Frontend: The Management Frontend container manages and updates Clipper's internal configuration state.\n",
    "3. A Redis instance: Redis is used to persistently store Clipper's internal configuration state. Redis is started on port 6380 instead of the default port to avoid collisions with any Redis instances that are already running.\n",
    "\n",
    "The containers network together as illustrated below:\n",
    "![title](img/start_clipper.png)\n",
    "\n",
    "> *Because Docker must download the Docker images from the internet (if they are not already cached) before it can start the containers, the first time you run this command can take a long time to complete (up to a couple minutes) while the image is downloaded. Thanks for your patience.*\n",
    "\n",
    "If you try to start more than one Clipper cluster at once on the same host, the second execution of the command will fail because, by default, the second cluster will try to bind to the same ports as the first one. If you run into problems with the exercise and want to start over, see instructions on how to reset Clipper."
   ]
  },
  {
   "cell_type": "code",
   "execution_count": 3,
   "metadata": {},
   "outputs": [
    {
     "name": "stderr",
     "output_type": "stream",
     "text": [
      "18-09-07:02:15:28 INFO     [clipper_admin.py:1258] Stopped all Clipper cluster and all model containers\n"
     ]
    }
   ],
   "source": [
    "clipper_conn.stop_all()"
   ]
  },
  {
   "cell_type": "code",
   "execution_count": 4,
   "metadata": {},
   "outputs": [
    {
     "name": "stderr",
     "output_type": "stream",
     "text": [
      "18-09-07:02:15:28 INFO     [docker_container_manager.py:119] Starting managed Redis instance in Docker\n",
      "18-09-07:02:15:30 INFO     [clipper_admin.py:126] Clipper is running\n"
     ]
    }
   ],
   "source": [
    "clipper_conn.start_clipper()\n",
    "clipper_addr = clipper_conn.get_query_addr()"
   ]
  },
  {
   "cell_type": "markdown",
   "metadata": {},
   "source": [
    "### Deploying a model\n",
    "At its most basic, a trained model is just a function that takes some input and produces some output. As a result, one way to think about Clipper is as a function server. While these functions are often complex models, Clipper is not restricted to serving machine learning models.\n",
    "\n",
    "Deploying a model consists of two steps:\n",
    "1. Creating the model - Before a model can be deployed, it must first be written and trained.\n",
    "2. Deploying the model - Clipper offers a wide variety of deployers for standard ML packages to make deployment easier. In addition, it is possible to deploy packages such as XGBoost or Scikit-Learn using the default PythonClosureContainer, by specifying what packages to install, or to create your own model container.\n",
    "\n",
    "To start with, you will deploy a very simple model to Clipper. We'll start by clustering data with Scikit-Learn!"
   ]
  },
  {
   "cell_type": "markdown",
   "metadata": {},
   "source": [
    "#### Creating a model\n",
    "We start by creating and training our model, which will be an 3 way classifier from sklearn."
   ]
  },
  {
   "cell_type": "code",
   "execution_count": 8,
   "metadata": {
    "collapsed": true
   },
   "outputs": [
    {
     "data": {
      "image/png": "[encoded data removed]",
      "text/plain": [
       "<Figure size 288x216 with 1 Axes>"
      ]
     },
     "metadata": {},
     "output_type": "display_data"
    }
   ],
   "source": [
    "# The code to train the model and produce the graph comes from this sklearn example:\n",
    "# http://scikit-learn.org/stable/auto_examples/linear_model/plot_iris_logistic.html\n",
    "import numpy as np\n",
    "import matplotlib.pyplot as plt\n",
    "from sklearn import linear_model, datasets\n",
    "%matplotlib inline\n",
    "\n",
    "np.random.seed(5)\n",
    "\n",
    "iris = datasets.load_iris()\n",
    "X = iris.data[:, :2]  # We only take the first two features.\n",
    "Y = iris.target\n",
    "\n",
    "h = .02  # Step size in the mesh\n",
    "\n",
    "model = linear_model.LogisticRegression(C=1e5)\n",
    "\n",
    "# We create an instance of Neighbours Classifier and fit the data.\n",
    "model.fit(X, Y)\n",
    "\n",
    "# Plot the decision boundary. For that, we will assign a color to each\n",
    "# point in the mesh [x_min, x_max]x[y_min, y_max].\n",
    "x_min, x_max = X[:, 0].min() - .5, X[:, 0].max() + .5\n",
    "y_min, y_max = X[:, 1].min() - .5, X[:, 1].max() + .5\n",
    "xx, yy = np.meshgrid(np.arange(x_min, x_max, h), np.arange(y_min, y_max, h))\n",
    "Z = model.predict(np.c_[xx.ravel(), yy.ravel()])\n",
    "\n",
    "# Put the result into a color plot\n",
    "Z = Z.reshape(xx.shape)\n",
    "plt.figure(1, figsize=(4, 3))\n",
    "plt.pcolormesh(xx, yy, Z, cmap=plt.cm.Paired)\n",
    "\n",
    "# Plot also the training points\n",
    "plt.scatter(X[:, 0], X[:, 1], c=Y, edgecolors='k', cmap=plt.cm.Paired)\n",
    "plt.xlabel('Sepal length')\n",
    "plt.ylabel('Sepal width')\n",
    "\n",
    "plt.xlim(xx.min(), xx.max())\n",
    "plt.ylim(yy.min(), yy.max())\n",
    "plt.xticks(())\n",
    "plt.yticks(())\n",
    "plt.title('3 Way Classifier')\n",
    "plt.show()"
   ]
  },
  {
   "cell_type": "markdown",
   "metadata": {},
   "source": [
    "Now that we have a model, we need to create the function that we will deploy to Clipper. We know that our function takes an array of length 2 - a petal width and a sepal length - and returns a label, so we can just define our `predict_label` function as shown below:"
   ]
  },
  {
   "cell_type": "code",
   "execution_count": 9,
   "metadata": {
    "collapsed": true
   },
   "outputs": [],
   "source": [
    "def predict_label(flower):\n",
    "    if (len(flower) != 2):\n",
    "        return 'Invalid argument passed!'\n",
    "    return model.predict(flower)"
   ]
  },
  {
   "cell_type": "markdown",
   "metadata": {},
   "source": [
    "To improve performance during inference, many machine learning models exploit opportunities for data parallelism in the inference process. Because of this, Clipper tries to provide multiple inputs at once to a deployed model. Therefore, models deployed to Clipper must have a function interface that takes a list of inputs as an argument and returns a list of predictions as strings. Returning predictions as strings provides a lot of flexibility over what your models can return. Commonly, models in Clipper will return either a single number (such as a label or score) or JSON containing a richer representation of the model output (for example, by including confidence estimates of predicted labels).\n",
    "\n",
    "Starting version 0.3.0, Clipper not only supports batching, but also performs adaptive batching. To perform adaptive batching, Clipper sends different batch sizes to models in order to determine which batch size is optimal, and therefore it is imperative to treat the input to the predict function as a batch. We will go into more detail about using batching with Clipper in a later section.\n",
    "\n",
    "We redefine our `predict_label` function, this time calling it `predict_flower`, to support this API. Since we are returning a string anyways, we might as well convert the labels given to us by our model to the corresponding flower name."
   ]
  },
  {
   "cell_type": "code",
   "execution_count": 10,
   "metadata": {
    "collapsed": true
   },
   "outputs": [],
   "source": [
    "def predict_flower(flowers):\n",
    "    labels = model.predict(flowers)\n",
    "    return ['Setosa' if l == 0 else 'Versicolour' if l == 2 else 'Virginica' for l in labels]"
   ]
  },
  {
   "cell_type": "markdown",
   "metadata": {},
   "source": [
    "Now that we have a valid function, we proceed to the deployment stage!"
   ]
  },
  {
   "cell_type": "code",
   "execution_count": 11,
   "metadata": {
    "collapsed": true
   },
   "outputs": [],
   "source": [
    "# Just a quick test\n",
    "assert predict_flower([X[0], X[101]]) == ['Setosa', 'Virginica']"
   ]
  },
  {
   "cell_type": "markdown",
   "metadata": {},
   "source": [
    "#### Deploying to Clipper"
   ]
  },
  {
   "cell_type": "markdown",
   "metadata": {},
   "source": [
    "One of the goals of Clipper is to make it simple to deploy and maintain machine-learning models in production. The prediction interface that models must implement is very simple, consisting of a single function. And the use of Docker makes it easy to include all of a model's dependencies in a self-contained environment. However, deploying a new type of model still entails writing and debugging a new model container and creating a Docker image.\n",
    "To make the model deployment process even simpler, Clipper provides a library of model deployers for common types of models. If your model can be deployed with one of these deployers, you no longer need to write a model container, create a Docker image, or even figure out how to save a model. Instead, you provide your trained model directly to the model deployer function within your Python process. The model deployer takes care of saving the model and building a Docker image that is compatible with your model type.\n",
    "\n",
    "Clipper provides model deployers for many common ML packages including PySpark, ONNX, TensorFlow, etc. In addition, Clipper provides a model deployer (the `PythonClosureContainer`) that can deploy arbitrary Python functions, and the ability to write custom containers for unsupported models.\n",
    "\n",
    "To keep the base images light, Clipper model containers install only the required dependencies to ensure that a basic model will run. Starting in version 0.3.0, users are also offered the ability to specify packages to install via pip on new model containers during their startup using the `pkgs_to_install` keyword argument. This feature is in all model containers, and today, we will use it with the `PythonClosureContainer` to deploy our Scikit-Learn model.\n",
    "\n",
    "Some models, such as those provided by Scikit-Learn or XGBoost, can be pickled, and require only that the packages are installed, and so these models can be deployed using the `PythonClosureContainer` and specifying that the packages are installed via the `pkgs_to_install` keyword argument, rather than creating custom model deployment containers.\n",
    "\n",
    "For more information about model deployers, check out the docs on our [site](http://clipper.ai)!"
   ]
  },
  {
   "cell_type": "code",
   "execution_count": 12,
   "metadata": {
    "collapsed": true
   },
   "outputs": [
    {
     "name": "stderr",
     "output_type": "stream",
     "text": [
      "18-09-07:02:16:07 INFO     [deployer_utils.py:44] Saving function to /tmp/clipper/tmpxd42yrvx\n",
      "18-09-07:02:16:07 INFO     [deployer_utils.py:54] Serialized and supplied predict function\n",
      "18-09-07:02:16:07 INFO     [python.py:192] Python closure saved\n",
      "18-09-07:02:16:07 INFO     [python.py:206] Using Python 3.6 base image\n",
      "18-09-07:02:16:07 INFO     [clipper_admin.py:452] Building model Docker image with model data from /tmp/clipper/tmpxd42yrvx\n",
      "18-09-07:02:16:17 INFO     [clipper_admin.py:456] {'stream': 'Step 1/3 : FROM clipper/python36-closure-container:0.3.0'}\n",
      "18-09-07:02:16:17 INFO     [clipper_admin.py:456] {'stream': '\\n'}\n",
      "18-09-07:02:16:17 INFO     [clipper_admin.py:456] {'stream': ' ---> 74ba26b9a6ba\\n'}\n",
      "18-09-07:02:16:17 INFO     [clipper_admin.py:456] {'stream': 'Step 2/3 : COPY /tmp/clipper/tmpxd42yrvx /model/'}\n",
      "18-09-07:02:16:17 INFO     [clipper_admin.py:456] {'stream': '\\n'}\n",
      "18-09-07:02:16:17 INFO     [clipper_admin.py:456] {'stream': ' ---> ff807d419289\\n'}\n",
      "18-09-07:02:16:17 INFO     [clipper_admin.py:456] {'stream': 'Step 3/3 : RUN apt-get -y install build-essential && pip install numpy scipy scikit-learn'}\n",
      "18-09-07:02:16:17 INFO     [clipper_admin.py:456] {'stream': '\\n'}\n",
      "18-09-07:02:16:17 INFO     [clipper_admin.py:456] {'stream': ' ---> Running in 80b669e65629\\n'}\n",
      "18-09-07:02:16:17 INFO     [clipper_admin.py:456] {'stream': 'Reading package lists...'}\n",
      "18-09-07:02:16:17 INFO     [clipper_admin.py:456] {'stream': '\\n'}\n",
      "18-09-07:02:16:17 INFO     [clipper_admin.py:456] {'stream': 'Building dependency tree...'}\n",
      "18-09-07:02:16:17 INFO     [clipper_admin.py:456] {'stream': '\\nReading state information...'}\n",
      "18-09-07:02:16:17 INFO     [clipper_admin.py:456] {'stream': '\\n'}\n",
      "18-09-07:02:16:17 INFO     [clipper_admin.py:456] {'stream': 'build-essential is already the newest version (12.3).\\n0 upgraded, 0 newly installed, 0 to remove and 1 not upgraded.\\n'}\n",
      "18-09-07:02:16:17 INFO     [clipper_admin.py:456] {'stream': 'Requirement already satisfied: numpy in /usr/local/lib/python3.6/site-packages (1.14.3)\\n'}\n",
      "18-09-07:02:16:17 INFO     [clipper_admin.py:456] {'stream': 'Collecting scipy\\n'}\n",
      "18-09-07:02:16:17 INFO     [clipper_admin.py:456] {'stream': '  Downloading https://files.pythonhosted.org/packages/a8/0b/f163da98d3a01b3e0ef1cab8dd2123c34aee2bafbb1c5bffa354cc8a1730/scipy-1.1.0-cp36-cp36m-manylinux1_x86_64.whl (31.2MB)\\n'}\n",
      "18-09-07:02:16:17 INFO     [clipper_admin.py:456] {'stream': 'Collecting scikit-learn\\n'}\n",
      "18-09-07:02:16:17 INFO     [clipper_admin.py:456] {'stream': '  Downloading https://files.pythonhosted.org/packages/f9/c8/8db4108aba5e2166cd2ea4eafa1a4b82f89240a1fa85733029cc2358ad1f/scikit_learn-0.19.2-cp36-cp36m-manylinux1_x86_64.whl (4.9MB)\\n'}\n",
      "18-09-07:02:16:17 INFO     [clipper_admin.py:456] {'stream': 'Installing collected packages: scipy, scikit-learn\\n'}\n",
      "18-09-07:02:16:17 INFO     [clipper_admin.py:456] {'stream': 'Successfully installed scikit-learn-0.19.2 scipy-1.1.0\\n'}\n",
      "18-09-07:02:16:17 INFO     [clipper_admin.py:456] {'stream': \"\\x1b[91mYou are using pip version 10.0.1, however version 18.0 is available.\\nYou should consider upgrading via the 'pip install --upgrade pip' command.\\n\\x1b[0m\"}\n",
      "18-09-07:02:16:17 INFO     [clipper_admin.py:456] {'stream': ' ---> c8c1a40ffb0b\\n'}\n",
      "18-09-07:02:16:17 INFO     [clipper_admin.py:456] {'aux': {'ID': 'sha256:c8c1a40ffb0b43291c7c9692b70d2807c8bbea21b8d90d79646f7419abcb8560'}}\n",
      "18-09-07:02:16:17 INFO     [clipper_admin.py:456] {'stream': 'Successfully built c8c1a40ffb0b\\n'}\n",
      "18-09-07:02:16:17 INFO     [clipper_admin.py:456] {'stream': 'Successfully tagged flowercat:1\\n'}\n",
      "18-09-07:02:16:17 INFO     [clipper_admin.py:458] Pushing model Docker image to flowercat:1\n",
      "18-09-07:02:16:18 INFO     [docker_container_manager.py:257] Found 0 replicas for flowercat:1. Adding 1\n",
      "18-09-07:02:16:24 INFO     [clipper_admin.py:635] Successfully registered model flowercat:1\n",
      "18-09-07:02:16:24 INFO     [clipper_admin.py:553] Done deploying model flowercat:1.\n"
     ]
    }
   ],
   "source": [
    "from clipper_admin.deployers import python as python_deployer\n",
    "python_deployer.deploy_python_closure(\n",
    "    clipper_conn,\n",
    "    name=\"flowercat\",  # The name of the model in Clipper\n",
    "    version=1,  # A unique identifier to assign to this model.\n",
    "    input_type=\"floats\",  # The type of data the model function expects as input\n",
    "    func=predict_flower, # The model function to deploy\n",
    "    pkgs_to_install=['numpy', 'scipy', 'scikit-learn'] # Packages to install in the new container. Must be a list\n",
    ")"
   ]
  },
  {
   "cell_type": "markdown",
   "metadata": {},
   "source": [
    "Clipper deploys each model in its own Docker container. After deploying the model, Clipper uses the DockerContainerManager to start a container for this model and create an RPC connection with the Clipper query frontend, as illustrated below (the changes to the cluster are highlighted in red).\n",
    "\n",
    "> *Once again, Clipper must download a Docker container from the internet the first time this command is run.*\n",
    "\n",
    "![title](img/deploy_model.png)\n",
    "\n",
    "If you list the Clipper containers again, you can see the container running your word count model."
   ]
  },
  {
   "cell_type": "code",
   "execution_count": 13,
   "metadata": {
    "collapsed": true
   },
   "outputs": [
    {
     "name": "stdout",
     "output_type": "stream",
     "text": [
      "CONTAINER ID        IMAGE                               COMMAND                  CREATED             STATUS                   PORTS                                            NAMES\n",
      "59b6b53a53c6        flowercat:1                         \"/container/containe…\"   6 seconds ago       Up 6 seconds (healthy)                                                    flowercat_1-28276\n",
      "2ed173debbcf        prom/prometheus:v2.1.0              \"/bin/prometheus --c…\"   55 seconds ago      Up 54 seconds            0.0.0.0:9090->9090/tcp                           metric_frontend-30516\n",
      "5f7b0adf1413        clipper/frontend-exporter:0.3.0     \"python /usr/src/app…\"   55 seconds ago      Up 55 seconds                                                             query_frontend_exporter-16813\n",
      "0b61be787c33        clipper/query_frontend:0.3.0        \"/clipper/release/sr…\"   56 seconds ago      Up 55 seconds            0.0.0.0:1337->1337/tcp, 0.0.0.0:7000->7000/tcp   query_frontend-16813\n",
      "d259e89b55a7        clipper/management_frontend:0.3.0   \"/clipper/release/sr…\"   56 seconds ago      Up 55 seconds            0.0.0.0:1338->1338/tcp                           mgmt_frontend-20684\n",
      "3ae139855953        redis:alpine                        \"docker-entrypoint.s…\"   56 seconds ago      Up 56 seconds            0.0.0.0:6379->6379/tcp                           redis-31046\n"
     ]
    }
   ],
   "source": [
    "!docker ps --filter label=ai.clipper.container.label"
   ]
  },
  {
   "cell_type": "markdown",
   "metadata": {},
   "source": [
    "##### A Note About Types [Optional]\n",
    "When you deploy models and register applications, you must specify the input type that the model or application expects. The type that you specify has implications for how Clipper manages input serialization and deserialization. From the user's perspective, the input type affects the behavior of Clipper in two places. In the \"input\" field of the request JSON body, applications will reject requests where the value of that field is the wrong type. And the deployed model function will be called with a list of inputs of the specified type.\n",
    "\n",
    "The input type can be one of the following types:\n",
    "\n",
    "* \"ints\": The value of the \"input\" field in a request must be a JSON list of ints. The model function will be called with a list of numpy arrays of type numpy.int.\n",
    "* \"floats\": The value of the \"input\" field in a request must be a JSON list of doubles. The model function will be called with a list of numpy arrays of type numpy.float32.\n",
    "* \"doubles\": The value of the \"input\" field in a request must be a JSON list of doubles. The model function will be called with a list of numpy arrays of type numpy.float64.\n",
    "* \"bytes\": The value of the \"input\" field in a request must be a Base64 encoded string. The model function will be called with a list of numpy arrays of type numpy.int8.\n",
    "* \"strings\": The value of the \"input\" field in a request must be a string. The model function will be called with a list of strings."
   ]
  },
  {
   "cell_type": "markdown",
   "metadata": {},
   "source": [
    "### Registering an Application\n",
    "You've now deployed a model to Clipper, but you don't have any way to query it yet. Instead of automatically creating a REST endpoint when you deploy a model, Clipper introduces a layer of indirection: the application. Clients query a specific application in Clipper, and the application routes the query to the correct model. This allows multiple applications to route queries to the same model, and allows a single application to route queries to multiple models.\n",
    "\n",
    "A single Clipper cluster can have many applications registered and many models deployed at once.\n",
    "\n",
    "When you register an application you configure certain elements of the application's behavior. These include:\n",
    "\n",
    "* The name to give the REST endpoint.\n",
    "* The input type that the application expects (Clipper will ensure applications only route requests to models with matching input types).\n",
    "* The latency service level objective (SLO) specified in microseconds. Clipper will manage how it schedules and routes queries for an application based on the specified service level objective. For example, Clipper will set the amount of time it allows requests to spend queued before being sent to the model based on the service level objective for the application requesting the prediction. In addition, Clipper will respond to requests by the end of the specified SLO, even if it has not received a prediction back from the model.\n",
    "* The default output: Clipper will respond with the default output to requests if a real prediction isn't available by the end of the service level objective.\n",
    "* (In the future) The selection policy: The default or user defined model selection policy to use when determining which models to route requests to.\n",
    "\n",
    "When you register an application with Clipper, it creates a REST endpoint for that application:\n",
    "\n",
    "```\n",
    "URL: /<app_name>/predict\n",
    "Method: POST\n",
    "Data Params: {\"input\": <input>}\n",
    "```\n",
    "\n",
    "To provide batch requests to clipper, you simply substitute `input` with `input_batch`. If both appear, `input` will be used, and `input_batch` ignored.\n",
    "\n",
    "```\n",
    "URL: /<app_name>/predict\n",
    "Method: POST\n",
    "Data Params: {\"input_batch\": <input_batch>}\n",
    "```\n",
    "\n",
    "![title](img/register_app.png)\n",
    "\n",
    "Register an application to query your classifier:"
   ]
  },
  {
   "cell_type": "code",
   "execution_count": 14,
   "metadata": {
    "collapsed": true
   },
   "outputs": [
    {
     "name": "stderr",
     "output_type": "stream",
     "text": [
      "18-09-07:02:16:27 INFO     [clipper_admin.py:201] Application flowercat-app was successfully registered\n"
     ]
    }
   ],
   "source": [
    "clipper_conn.register_application(\n",
    "    name=\"flowercat-app\",\n",
    "    input_type=\"floats\",\n",
    "    default_output=\"Default\",\n",
    "    slo_micros=100000)"
   ]
  },
  {
   "cell_type": "markdown",
   "metadata": {},
   "source": [
    "Try querying the newly created application. We use Python in this example, but it can also be done with [curl](https://curl.haxx.se)!"
   ]
  },
  {
   "cell_type": "code",
   "execution_count": 15,
   "metadata": {
    "collapsed": true
   },
   "outputs": [
    {
     "data": {
      "text/plain": [
       "{'query_id': 0,\n",
       " 'output': 'Default',\n",
       " 'default': True,\n",
       " 'default_explanation': 'No connected models found for query'}"
      ]
     },
     "execution_count": 15,
     "metadata": {},
     "output_type": "execute_result"
    }
   ],
   "source": [
    "import requests, json\n",
    "response = requests.post(\n",
    "     \"http://%s/%s/predict\" % (clipper_addr, 'flowercat-app'),\n",
    "     headers={\"Content-type\": \"application/json\"},\n",
    "     data=json.dumps({\n",
    "         'input': list(X[0]),\n",
    "     }))\n",
    "result = response.json()\n",
    "result"
   ]
  },
  {
   "cell_type": "markdown",
   "metadata": {},
   "source": [
    "You should see that your application returned the default output of \"Default\". This is because even though you have deployed a model and registered an application, you have not told Clipper to route requests from the \"flowercat-app\" application to the \"flowercat\" model.\n",
    "\n",
    "You do this by linking the model to the application.\n",
    "\n",
    "![title](img/link_model.png)"
   ]
  },
  {
   "cell_type": "code",
   "execution_count": 16,
   "metadata": {
    "collapsed": true
   },
   "outputs": [
    {
     "name": "stderr",
     "output_type": "stream",
     "text": [
      "18-09-07:02:16:30 INFO     [clipper_admin.py:263] Model flowercat is now linked to application flowercat-app\n"
     ]
    }
   ],
   "source": [
    "clipper_conn.link_model_to_app(app_name=\"flowercat-app\", model_name=\"flowercat\")"
   ]
  },
  {
   "cell_type": "markdown",
   "metadata": {},
   "source": [
    "When you query the \"wordcount-app\" endpoint again, Clipper should return the correct word count. Try it with your own input."
   ]
  },
  {
   "cell_type": "code",
   "execution_count": 17,
   "metadata": {
    "collapsed": true,
    "scrolled": true
   },
   "outputs": [
    {
     "data": {
      "text/plain": [
       "{'query_id': 1, 'output': 'Setosa', 'default': False}"
      ]
     },
     "execution_count": 17,
     "metadata": {},
     "output_type": "execute_result"
    }
   ],
   "source": [
    "response = requests.post(\n",
    "     \"http://%s/%s/predict\" % (clipper_addr, 'flowercat-app'),\n",
    "     headers={\"Content-type\": \"application/json\"},\n",
    "     data=json.dumps({\n",
    "         'input': list(X[0]),\n",
    "     }))\n",
    "result = response.json()\n",
    "result"
   ]
  },
  {
   "cell_type": "markdown",
   "metadata": {},
   "source": [
    "### Inspecting Clipper\n",
    "The ClipperConnection object has several methods to inspect various aspects of the Clipper cluster.\n",
    "\n",
    "You can list all of the applications."
   ]
  },
  {
   "cell_type": "code",
   "execution_count": 18,
   "metadata": {
    "collapsed": true
   },
   "outputs": [
    {
     "data": {
      "text/plain": [
       "[{'input_type': 'floats',\n",
       "  'default_output': 'Default',\n",
       "  'latency_slo_micros': 100000,\n",
       "  'name': 'flowercat-app',\n",
       "  'linked_models': ['flowercat']}]"
      ]
     },
     "execution_count": 18,
     "metadata": {},
     "output_type": "execute_result"
    }
   ],
   "source": [
    "clipper_conn.get_all_apps(verbose=True)"
   ]
  },
  {
   "cell_type": "markdown",
   "metadata": {},
   "source": [
    "Or all of the models."
   ]
  },
  {
   "cell_type": "code",
   "execution_count": 19,
   "metadata": {
    "collapsed": true
   },
   "outputs": [
    {
     "data": {
      "text/plain": [
       "[{'model_name': 'flowercat',\n",
       "  'model_version': '1',\n",
       "  'input_type': 'floats',\n",
       "  'labels': [''],\n",
       "  'container_name': 'flowercat:1',\n",
       "  'model_data_path': 'DEPRECATED',\n",
       "  'is_current_version': True}]"
      ]
     },
     "execution_count": 19,
     "metadata": {},
     "output_type": "execute_result"
    }
   ],
   "source": [
    "clipper_conn.get_all_models(verbose=True)"
   ]
  },
  {
   "cell_type": "markdown",
   "metadata": {},
   "source": [
    "Clipper also tracks several performance metrics that you can inspect at any time, as well as allows you to deploy your own custom metrics."
   ]
  },
  {
   "cell_type": "code",
   "execution_count": 20,
   "metadata": {
    "collapsed": true
   },
   "outputs": [
    {
     "data": {
      "text/plain": [
       "{'counters': [{'internal:prediction_cache_lookups': {'count': '1'}},\n",
       "  {'internal:aggregate_num_predictions': {'count': '1'}},\n",
       "  {'model:flowercat:1:num_predictions': {'count': '2'}},\n",
       "  {'app:flowercat-app:num_predictions': {'count': '2'}}],\n",
       " 'ratio_counters': [{'internal:prediction_cache_hit_ratio': {'ratio': '0'}},\n",
       "  {'model:flowercat:1:cache_hit_ratio': {'ratio': '0'}},\n",
       "  {'app:flowercat-app:default_prediction_ratio': {'ratio': '0.5'}}],\n",
       " 'meters': [{'internal:aggregate_model_throughput': {'unit': 'events per second',\n",
       "    'rate': '0.029374459142771033',\n",
       "    'rate_1min': '0.031982234148270686',\n",
       "    'rate_5min': '0.0066114184713530035',\n",
       "    'rate_15min': '0.0022160607980413085'}},\n",
       "  {'model:flowercat:1:prediction_throughput': {'unit': 'events per second',\n",
       "    'rate': '0.11774103001736916',\n",
       "    'rate_1min': '0.031982234148270686',\n",
       "    'rate_5min': '0.0066114184713530035',\n",
       "    'rate_15min': '0.0022160607980413085'}},\n",
       "  {'app:flowercat-app:prediction_throughput': {'unit': 'events per second',\n",
       "    'rate': '0.211369948879121',\n",
       "    'rate_1min': '0.40000000000000002',\n",
       "    'rate_5min': '0.40000000000000002',\n",
       "    'rate_15min': '0.40000000000000002'}}],\n",
       " 'histograms': [{'internal:rpc_request_queueing_delay': {'unit': 'microseconds',\n",
       "    'size': '1',\n",
       "    'min': '760',\n",
       "    'max': '760',\n",
       "    'mean': '760',\n",
       "    'std_dev': '0',\n",
       "    'p50': '760',\n",
       "    'p95': '760',\n",
       "    'p99': '760'}},\n",
       "  {'model:flowercat:1:prediction_latency': {'unit': 'microseconds',\n",
       "    'size': '2',\n",
       "    'min': '1772',\n",
       "    'max': '1772',\n",
       "    'mean': '1772',\n",
       "    'std_dev': '0',\n",
       "    'p50': '1772',\n",
       "    'p95': '1772',\n",
       "    'p99': '1772'}},\n",
       "  {'model:flowercat:1:batch_size': {'unit': 'queries',\n",
       "    'size': '1',\n",
       "    'min': '2',\n",
       "    'max': '2',\n",
       "    'mean': '2',\n",
       "    'std_dev': '0',\n",
       "    'p50': '2',\n",
       "    'p95': '2',\n",
       "    'p99': '2'}},\n",
       "  {'app:flowercat-app:prediction_latency': {'unit': 'microseconds',\n",
       "    'size': '2',\n",
       "    'min': '184',\n",
       "    'max': '1894',\n",
       "    'mean': '1039',\n",
       "    'std_dev': '855',\n",
       "    'p50': '1039',\n",
       "    'p95': '1894',\n",
       "    'p99': '1894'}}]}"
      ]
     },
     "execution_count": 20,
     "metadata": {},
     "output_type": "execute_result"
    }
   ],
   "source": [
    "clipper_conn.inspect_instance()"
   ]
  },
  {
   "cell_type": "markdown",
   "metadata": {},
   "source": [
    "You can also fetch the raw container logs from all of the Clipper docker containers. The command will print the paths to the log files for further examination. You can figure out which logs belong to which container based on the unique Docker container ID in the log filename."
   ]
  },
  {
   "cell_type": "code",
   "execution_count": 21,
   "metadata": {
    "collapsed": true
   },
   "outputs": [
    {
     "name": "stderr",
     "output_type": "stream",
     "text": [
      "18-09-07:02:16:37 INFO     [docker_container_manager.py:295] Created logging directory: /home/ubuntu/repos/clipper-tutorials-2/clipper_logs\n"
     ]
    },
    {
     "data": {
      "text/plain": [
       "['/home/ubuntu/repos/clipper-tutorials-2/clipper_logs/image_sha256:c8c1a40ffb:container_59b6b53a53.log',\n",
       " '/home/ubuntu/repos/clipper-tutorials-2/clipper_logs/image_sha256:c8ecf7c719:container_2ed173debb.log',\n",
       " '/home/ubuntu/repos/clipper-tutorials-2/clipper_logs/image_sha256:c29b40eb63:container_5f7b0adf14.log',\n",
       " '/home/ubuntu/repos/clipper-tutorials-2/clipper_logs/image_sha256:7eefa1a263:container_0b61be787c.log',\n",
       " '/home/ubuntu/repos/clipper-tutorials-2/clipper_logs/image_sha256:3d960da25d:container_d259e89b55.log',\n",
       " '/home/ubuntu/repos/clipper-tutorials-2/clipper_logs/image_sha256:756717246f:container_3ae1398559.log']"
      ]
     },
     "execution_count": 21,
     "metadata": {},
     "output_type": "execute_result"
    }
   ],
   "source": [
    "clipper_conn.get_clipper_logs()"
   ]
  },
  {
   "cell_type": "markdown",
   "metadata": {},
   "source": [
    "### Updating the Model\n",
    "Machine learning models are rarely static. Instead, data science tends to be an iterative process, with new and improved models being developed over time. Clipper supports this workflow by letting you deploy new versions of models. If you look back to where you linked your flowercat model to the application, you'll see that there is no mention of versioning in that method call. Instead, when a new version of a model is deployed, Clipper will automatically start routing requests to the new version.\n",
    "\n",
    "Create a new version of the \"flowercat\" model that returns the probabilities that an input is in each class instead."
   ]
  },
  {
   "cell_type": "code",
   "execution_count": 22,
   "metadata": {
    "collapsed": true
   },
   "outputs": [],
   "source": [
    "def new_predict_flower(flowers):\n",
    "    return model.predict_proba(flowers)"
   ]
  },
  {
   "cell_type": "code",
   "execution_count": 23,
   "metadata": {
    "collapsed": true
   },
   "outputs": [
    {
     "data": {
      "text/plain": [
       "array([[0.9058239 , 0.0681672 , 0.02600889]])"
      ]
     },
     "execution_count": 23,
     "metadata": {},
     "output_type": "execute_result"
    }
   ],
   "source": [
    "new_predict_flower([X[0]])"
   ]
  },
  {
   "cell_type": "markdown",
   "metadata": {},
   "source": [
    "Deploy this new version of the function as version \"2\". For this application, you are using a numeric versioning scheme. But Clipper just treats versions as unique string identifiers, so you could use other versioning schemes (such as Git hashes or semantic versioning). Versions don't even have to be ordered, Clipper just tracks the currently active version.\n",
    "\n",
    "![title](img/update_model.png)\n"
   ]
  },
  {
   "cell_type": "code",
   "execution_count": 24,
   "metadata": {
    "collapsed": true
   },
   "outputs": [
    {
     "name": "stderr",
     "output_type": "stream",
     "text": [
      "18-09-07:02:16:43 INFO     [deployer_utils.py:44] Saving function to /tmp/clipper/tmpwd18ua3a\n",
      "18-09-07:02:16:43 INFO     [deployer_utils.py:54] Serialized and supplied predict function\n",
      "18-09-07:02:16:43 INFO     [python.py:192] Python closure saved\n",
      "18-09-07:02:16:43 INFO     [python.py:206] Using Python 3.6 base image\n",
      "18-09-07:02:16:43 INFO     [clipper_admin.py:452] Building model Docker image with model data from /tmp/clipper/tmpwd18ua3a\n",
      "18-09-07:02:16:52 INFO     [clipper_admin.py:456] {'stream': 'Step 1/3 : FROM clipper/python36-closure-container:0.3.0'}\n",
      "18-09-07:02:16:52 INFO     [clipper_admin.py:456] {'stream': '\\n'}\n",
      "18-09-07:02:16:52 INFO     [clipper_admin.py:456] {'stream': ' ---> 74ba26b9a6ba\\n'}\n",
      "18-09-07:02:16:52 INFO     [clipper_admin.py:456] {'stream': 'Step 2/3 : COPY /tmp/clipper/tmpwd18ua3a /model/'}\n",
      "18-09-07:02:16:52 INFO     [clipper_admin.py:456] {'stream': '\\n'}\n",
      "18-09-07:02:16:52 INFO     [clipper_admin.py:456] {'stream': ' ---> e8456f0443a6\\n'}\n",
      "18-09-07:02:16:52 INFO     [clipper_admin.py:456] {'stream': 'Step 3/3 : RUN apt-get -y install build-essential && pip install numpy scipy scikit-learn'}\n",
      "18-09-07:02:16:52 INFO     [clipper_admin.py:456] {'stream': '\\n'}\n",
      "18-09-07:02:16:52 INFO     [clipper_admin.py:456] {'stream': ' ---> Running in 56ea7ec79003\\n'}\n",
      "18-09-07:02:16:52 INFO     [clipper_admin.py:456] {'stream': 'Reading package lists...'}\n",
      "18-09-07:02:16:52 INFO     [clipper_admin.py:456] {'stream': '\\n'}\n",
      "18-09-07:02:16:52 INFO     [clipper_admin.py:456] {'stream': 'Building dependency tree...'}\n",
      "18-09-07:02:16:52 INFO     [clipper_admin.py:456] {'stream': '\\nReading state information...'}\n",
      "18-09-07:02:16:52 INFO     [clipper_admin.py:456] {'stream': '\\n'}\n",
      "18-09-07:02:16:52 INFO     [clipper_admin.py:456] {'stream': 'build-essential is already the newest version (12.3).\\n0 upgraded, 0 newly installed, 0 to remove and 1 not upgraded.\\n'}\n",
      "18-09-07:02:16:52 INFO     [clipper_admin.py:456] {'stream': 'Requirement already satisfied: numpy in /usr/local/lib/python3.6/site-packages (1.14.3)\\n'}\n",
      "18-09-07:02:16:52 INFO     [clipper_admin.py:456] {'stream': 'Collecting scipy\\n'}\n",
      "18-09-07:02:16:52 INFO     [clipper_admin.py:456] {'stream': '  Downloading https://files.pythonhosted.org/packages/a8/0b/f163da98d3a01b3e0ef1cab8dd2123c34aee2bafbb1c5bffa354cc8a1730/scipy-1.1.0-cp36-cp36m-manylinux1_x86_64.whl (31.2MB)\\n'}\n",
      "18-09-07:02:16:52 INFO     [clipper_admin.py:456] {'stream': 'Collecting scikit-learn\\n'}\n",
      "18-09-07:02:16:52 INFO     [clipper_admin.py:456] {'stream': '  Downloading https://files.pythonhosted.org/packages/f9/c8/8db4108aba5e2166cd2ea4eafa1a4b82f89240a1fa85733029cc2358ad1f/scikit_learn-0.19.2-cp36-cp36m-manylinux1_x86_64.whl (4.9MB)\\n'}\n",
      "18-09-07:02:16:52 INFO     [clipper_admin.py:456] {'stream': 'Installing collected packages: scipy, scikit-learn\\n'}\n",
      "18-09-07:02:16:52 INFO     [clipper_admin.py:456] {'stream': 'Successfully installed scikit-learn-0.19.2 scipy-1.1.0\\n'}\n",
      "18-09-07:02:16:52 INFO     [clipper_admin.py:456] {'stream': \"\\x1b[91mYou are using pip version 10.0.1, however version 18.0 is available.\\nYou should consider upgrading via the 'pip install --upgrade pip' command.\\n\\x1b[0m\"}\n",
      "18-09-07:02:16:52 INFO     [clipper_admin.py:456] {'stream': ' ---> 4dd2834aa5d8\\n'}\n",
      "18-09-07:02:16:52 INFO     [clipper_admin.py:456] {'aux': {'ID': 'sha256:4dd2834aa5d8b37ad2386054bad65e9cd9a8c56cee029ec52b870af0beff60c5'}}\n",
      "18-09-07:02:16:52 INFO     [clipper_admin.py:456] {'stream': 'Successfully built 4dd2834aa5d8\\n'}\n",
      "18-09-07:02:16:52 INFO     [clipper_admin.py:456] {'stream': 'Successfully tagged flowercat:2\\n'}\n",
      "18-09-07:02:16:52 INFO     [clipper_admin.py:458] Pushing model Docker image to flowercat:2\n",
      "18-09-07:02:16:54 INFO     [docker_container_manager.py:257] Found 0 replicas for flowercat:2. Adding 1\n",
      "18-09-07:02:17:00 INFO     [clipper_admin.py:635] Successfully registered model flowercat:2\n",
      "18-09-07:02:17:00 INFO     [clipper_admin.py:553] Done deploying model flowercat:2.\n"
     ]
    }
   ],
   "source": [
    "python_deployer.deploy_python_closure(\n",
    "    clipper_conn,\n",
    "    name=\"flowercat\",  # The name of the model in Clipper\n",
    "    version=2,  # A unique identifier to assign to this model.\n",
    "    input_type=\"floats\",  # The type of data the model function expects as input\n",
    "    func=new_predict_flower, # The model function to deploy\n",
    "    pkgs_to_install=['numpy', 'scipy', 'scikit-learn'] # Packages to install in the new container. Must be a list\n",
    ")"
   ]
  },
  {
   "cell_type": "code",
   "execution_count": 25,
   "metadata": {
    "collapsed": true
   },
   "outputs": [
    {
     "data": {
      "text/plain": [
       "{'query_id': 2,\n",
       " 'output': '[0.90582391 0.0681672  0.02600889]',\n",
       " 'default': False}"
      ]
     },
     "execution_count": 25,
     "metadata": {},
     "output_type": "execute_result"
    }
   ],
   "source": [
    "response = requests.post(\n",
    "     \"http://%s/%s/predict\" % (clipper_addr, 'flowercat-app'),\n",
    "     headers={\"Content-type\": \"application/json\"},\n",
    "     data=json.dumps({\n",
    "         'input': list(X[0]),\n",
    "     }))\n",
    "result = response.json()\n",
    "result"
   ]
  },
  {
   "cell_type": "markdown",
   "metadata": {},
   "source": [
    "Sometimes the \"new and improved\" model is not actually improved. If you deploy a model that isn't working well, you can roll back to any previous version. This just changes which version of the model application's route requests to.\n",
    "\n",
    "![title](img/rollback_version.png)"
   ]
  },
  {
   "cell_type": "code",
   "execution_count": 26,
   "metadata": {
    "collapsed": true
   },
   "outputs": [],
   "source": [
    "clipper_conn.set_model_version(name=\"flowercat\", version=\"1\")"
   ]
  },
  {
   "cell_type": "code",
   "execution_count": 27,
   "metadata": {
    "collapsed": true
   },
   "outputs": [
    {
     "data": {
      "text/plain": [
       "{'query_id': 3, 'output': 'Setosa', 'default': False}"
      ]
     },
     "execution_count": 27,
     "metadata": {},
     "output_type": "execute_result"
    }
   ],
   "source": [
    "response = requests.post(\n",
    "     \"http://%s/%s/predict\" % (clipper_addr, 'flowercat-app'),\n",
    "     headers={\"Content-type\": \"application/json\"},\n",
    "     data=json.dumps({\n",
    "         'input': list(X[0]),\n",
    "     }))\n",
    "result = response.json()\n",
    "result"
   ]
  },
  {
   "cell_type": "markdown",
   "metadata": {},
   "source": [
    "### Adding Model Replicas\n",
    "Many machine learning models are computationally expensive and a single instance of the model may not meet the throughput demands of a serving workload. To increase prediction throughput, you can add additional replicas of a model. This creates additional Docker containers running the same model. Clipper will act as a load-balancer and distribute incoming requests across the set of available model replicas to provide higher throughput.\n",
    "\n",
    "Set the number of replicas for the currently active version (\"1\") of the \"wordcount\" model to 4.\n",
    "\n",
    "![title](img/add_replicas.png)"
   ]
  },
  {
   "cell_type": "code",
   "execution_count": 28,
   "metadata": {
    "collapsed": true
   },
   "outputs": [
    {
     "name": "stderr",
     "output_type": "stream",
     "text": [
      "18-09-07:02:17:00 INFO     [docker_container_manager.py:257] Found 1 replicas for flowercat:1. Adding 3\n"
     ]
    }
   ],
   "source": [
    "clipper_conn.set_num_replicas(\"flowercat\", num_replicas=4)"
   ]
  },
  {
   "cell_type": "markdown",
   "metadata": {},
   "source": [
    "If you list the Clipper Docker containers, you should now see four containers based on the image \"flowercat:1\"."
   ]
  },
  {
   "cell_type": "code",
   "execution_count": 29,
   "metadata": {
    "collapsed": true
   },
   "outputs": [
    {
     "name": "stdout",
     "output_type": "stream",
     "text": [
      "CONTAINER ID        IMAGE                               COMMAND                  CREATED              STATUS                    PORTS                                            NAMES\n",
      "828c0fb11120        flowercat:1                         \"/container/containe…\"   7 seconds ago        Up 6 seconds (healthy)                                                     flowercat_1-77156\n",
      "b87d6fd0d618        flowercat:1                         \"/container/containe…\"   7 seconds ago        Up 6 seconds (healthy)                                                     flowercat_1-61659\n",
      "99f53046576b        flowercat:1                         \"/container/containe…\"   8 seconds ago        Up 7 seconds (healthy)                                                     flowercat_1-43488\n",
      "aac25875e117        flowercat:2                         \"/container/containe…\"   14 seconds ago       Up 14 seconds (healthy)                                                    flowercat_2-26866\n",
      "59b6b53a53c6        flowercat:1                         \"/container/containe…\"   50 seconds ago       Up 50 seconds (healthy)                                                    flowercat_1-28276\n",
      "2ed173debbcf        prom/prometheus:v2.1.0              \"/bin/prometheus --c…\"   About a minute ago   Up About a minute         0.0.0.0:9090->9090/tcp                           metric_frontend-30516\n",
      "5f7b0adf1413        clipper/frontend-exporter:0.3.0     \"python /usr/src/app…\"   About a minute ago   Up About a minute                                                          query_frontend_exporter-16813\n",
      "0b61be787c33        clipper/query_frontend:0.3.0        \"/clipper/release/sr…\"   About a minute ago   Up About a minute         0.0.0.0:1337->1337/tcp, 0.0.0.0:7000->7000/tcp   query_frontend-16813\n",
      "d259e89b55a7        clipper/management_frontend:0.3.0   \"/clipper/release/sr…\"   About a minute ago   Up About a minute         0.0.0.0:1338->1338/tcp                           mgmt_frontend-20684\n",
      "3ae139855953        redis:alpine                        \"docker-entrypoint.s…\"   About a minute ago   Up About a minute         0.0.0.0:6379->6379/tcp                           redis-31046\n"
     ]
    }
   ],
   "source": [
    "!docker ps --filter label=ai.clipper.container.label"
   ]
  },
  {
   "cell_type": "markdown",
   "metadata": {},
   "source": [
    "If you want to reduce the number of replicas of a model to free up hardware resource, you can use the same command.\n",
    "\n",
    "Set the number of replicas for \"flowercat\" back to 1.\n",
    "\n",
    "![title](img/set_replicas.png)"
   ]
  },
  {
   "cell_type": "code",
   "execution_count": 30,
   "metadata": {
    "collapsed": true
   },
   "outputs": [
    {
     "name": "stderr",
     "output_type": "stream",
     "text": [
      "18-09-07:02:17:08 INFO     [docker_container_manager.py:278] Found 4 replicas for flowercat:1. Removing 3\n"
     ]
    }
   ],
   "source": [
    "clipper_conn.set_num_replicas(\"flowercat\", num_replicas=1)"
   ]
  },
  {
   "cell_type": "code",
   "execution_count": 31,
   "metadata": {
    "collapsed": true
   },
   "outputs": [
    {
     "name": "stdout",
     "output_type": "stream",
     "text": [
      "CONTAINER ID        IMAGE                               COMMAND                  CREATED             STATUS                    PORTS                                            NAMES\n",
      "828c0fb11120        flowercat:1                         \"/container/containe…\"   38 seconds ago      Up 37 seconds (healthy)                                                    flowercat_1-77156\n",
      "aac25875e117        flowercat:2                         \"/container/containe…\"   45 seconds ago      Up 45 seconds (healthy)                                                    flowercat_2-26866\n",
      "2ed173debbcf        prom/prometheus:v2.1.0              \"/bin/prometheus --c…\"   2 minutes ago       Up 2 minutes              0.0.0.0:9090->9090/tcp                           metric_frontend-30516\n",
      "5f7b0adf1413        clipper/frontend-exporter:0.3.0     \"python /usr/src/app…\"   2 minutes ago       Up 2 minutes                                                               query_frontend_exporter-16813\n",
      "0b61be787c33        clipper/query_frontend:0.3.0        \"/clipper/release/sr…\"   2 minutes ago       Up 2 minutes              0.0.0.0:1337->1337/tcp, 0.0.0.0:7000->7000/tcp   query_frontend-16813\n",
      "d259e89b55a7        clipper/management_frontend:0.3.0   \"/clipper/release/sr…\"   2 minutes ago       Up 2 minutes              0.0.0.0:1338->1338/tcp                           mgmt_frontend-20684\n",
      "3ae139855953        redis:alpine                        \"docker-entrypoint.s…\"   2 minutes ago       Up 2 minutes              0.0.0.0:6379->6379/tcp                           redis-31046\n"
     ]
    }
   ],
   "source": [
    "!docker ps --filter label=ai.clipper.container.label"
   ]
  },
  {
   "cell_type": "markdown",
   "metadata": {},
   "source": [
    "## Example Application - Image Classification"
   ]
  },
  {
   "cell_type": "markdown",
   "metadata": {},
   "source": [
    "In the second part of this exercise, you will deploy a SqueezeNet model, using PyTorch, that uses computer vision models to classify images.\n",
    "\n",
    "You will create an application that labels images from the ImageNet dataset.\n",
    "\n",
    "These images have already been downloaded for you within the directory."
   ]
  },
  {
   "cell_type": "markdown",
   "metadata": {},
   "source": [
    "### Creating an application\n",
    "\n",
    "For this tutorial, create an application named \"squeezenet-classifier\". Note that Clipper allows you to create the application before deploying any models."
   ]
  },
  {
   "cell_type": "code",
   "execution_count": 60,
   "metadata": {},
   "outputs": [
    {
     "name": "stderr",
     "output_type": "stream",
     "text": [
      "18-09-07:02:32:18 INFO     [clipper_admin.py:201] Application squeezenet-classsifier-2 was successfully registered\n"
     ]
    }
   ],
   "source": [
    "app_name = \"squeezenet-classsifier-2\"\n",
    "# If the model (which we will later link to our application) doesn't\n",
    "# return a prediction in time, we will return \"default\" as our prediction.\n",
    "default_output = \"default\"\n",
    "\n",
    "clipper_conn.register_application(\n",
    "    name=app_name,\n",
    "    input_type=\"bytes\",\n",
    "    default_output=default_output,\n",
    "    slo_micros=10000000)"
   ]
  },
  {
   "cell_type": "markdown",
   "metadata": {},
   "source": [
    "When you list the applications registered with Clipper, you should see the newly registered \"squeezenet-classifier\" application show up!"
   ]
  },
  {
   "cell_type": "code",
   "execution_count": 61,
   "metadata": {},
   "outputs": [
    {
     "data": {
      "text/plain": [
       "['squeezenet-classsifier-2', 'squeezenet-classsifier', 'flowercat-app']"
      ]
     },
     "execution_count": 61,
     "metadata": {},
     "output_type": "execute_result"
    }
   ],
   "source": [
    "clipper_conn.get_all_apps()"
   ]
  },
  {
   "cell_type": "markdown",
   "metadata": {},
   "source": [
    "### Start serving\n",
    "\n",
    "Now that you have registered an application, you can start querying the application for predictions. \n",
    "\n",
    "We will hold off on doing this until we deploy the corresponding model container though."
   ]
  },
  {
   "cell_type": "markdown",
   "metadata": {},
   "source": [
    "### Load our PyTorch Model\n",
    "\n",
    "Let's now deploy our pretrained SqueezeNet model.\n",
    "\n",
    "First we have to load it using the `torchvision` API."
   ]
  },
  {
   "cell_type": "code",
   "execution_count": 37,
   "metadata": {},
   "outputs": [
    {
     "name": "stderr",
     "output_type": "stream",
     "text": [
      "/home/ubuntu/miniconda3/lib/python3.6/site-packages/torchvision/models/squeezenet.py:94: UserWarning: nn.init.kaiming_uniform is now deprecated in favor of nn.init.kaiming_uniform_.\n",
      "  init.kaiming_uniform(m.weight.data)\n",
      "/home/ubuntu/miniconda3/lib/python3.6/site-packages/torchvision/models/squeezenet.py:92: UserWarning: nn.init.normal is now deprecated in favor of nn.init.normal_.\n",
      "  init.normal(m.weight.data, mean=0.0, std=0.01)\n",
      "Downloading: \"https://download.pytorch.org/models/squeezenet1_1-f364aa15.pth\" to /home/ubuntu/.torch/models/squeezenet1_1-f364aa15.pth\n",
      "100.0%\n"
     ]
    }
   ],
   "source": [
    "from torchvision import models, transforms\n",
    "# We set the pretrained flag to True to get a trained model.\n",
    "model = models.squeezenet1_1(pretrained=True)"
   ]
  },
  {
   "cell_type": "markdown",
   "metadata": {},
   "source": [
    "### Deploying our PyTorch Model\n",
    "\n",
    "Unlike the Scikit-Learn model in [Section 1](#API-Overview), PyTorch models cannot just be pickled and loaded. Instead, they must be saved using PyTorch's native serialization API. Because of this, you cannot use the generic Python model deployer to deploy the model to Clipper. Instead, we must use the Clipper PyTorch deployer to deploy it. The Docker container will load and reconstruct the model from the serialized model checkpoint when the container is started.\n",
    "\n",
    "After completing this step and deploying the new model, Clipper will send queries to the newly-deployed PyTorch model.\n",
    "\n",
    "> *Once again, Clipper must download this Docker image from the internet, so this may take a minute. Thanks for your patience.*\n",
    "\n",
    "We'll start by creating a predict function. Before we get into it, though, let us discuss metrics."
   ]
  },
  {
   "cell_type": "markdown",
   "metadata": {},
   "source": [
    "### Metrics\n",
    "Pay special attention to the metrics - this is a new feature within Clipper. Clipper, by default, provides certain metrics, such as batch size, but it is also possible to add user metrics. Clipper uses Prometheus to track these metrics, and so the dashboard can be seen at http://localhost:9090/. It is also easy to connect this to Grafana, something that has been done for you in this tutorial. For this example, we will add a variable that tracks the average batch size to illustrate Clipper's adaptive batching."
   ]
  },
  {
   "cell_type": "markdown",
   "metadata": {},
   "source": [
    "#### Preprocessing\n",
    "Before making the predict function, we must dowload the labels for the dataset, and specify preprocessing on the images. The code for this cell comes from the this [tutorial](http://blog.outcome.io/pytorch-quick-start-classifying-an-image/)."
   ]
  },
  {
   "cell_type": "code",
   "execution_count": 38,
   "metadata": {},
   "outputs": [
    {
     "name": "stderr",
     "output_type": "stream",
     "text": [
      "/home/ubuntu/miniconda3/lib/python3.6/site-packages/torchvision/transforms/transforms.py:188: UserWarning: The use of the transforms.Scale transform is deprecated, please use transforms.Resize instead.\n",
      "  \"please use transforms.Resize instead.\")\n"
     ]
    }
   ],
   "source": [
    "# First we define the preproccessing on the images:\n",
    "normalize = transforms.Normalize(\n",
    "   mean=[0.485, 0.456, 0.406],\n",
    "   std=[0.229, 0.224, 0.225]\n",
    ")\n",
    "preprocess = transforms.Compose([\n",
    "   transforms.Scale(256),\n",
    "   transforms.CenterCrop(224),\n",
    "   transforms.ToTensor(),\n",
    "   normalize\n",
    "])\n",
    "\n",
    "# Then we download the labels:\n",
    "labels = {int(key):value for (key, value)\n",
    "          in requests.get('https://s3.amazonaws.com/outcome-blog/imagenet/labels.json').json().items()}"
   ]
  },
  {
   "cell_type": "markdown",
   "metadata": {},
   "source": [
    "### Predict function\n",
    "Now we must define a predit function to deploy. We send each image as bytes, so we must first deserialize the image before we can perform any operations on it."
   ]
  },
  {
   "cell_type": "code",
   "execution_count": 57,
   "metadata": {
    "collapsed": true
   },
   "outputs": [],
   "source": [
    "import clipper_admin.metrics as metrics\n",
    "\n",
    "def predict_torch_model(n, imgs):\n",
    "    import base64\n",
    "    import io\n",
    "    import os\n",
    "    import PIL.Image\n",
    "    import tempfile\n",
    "    import torch\n",
    "    metrics.add_metric(\"batch_size\", 'Gauge', 'Batch size passed to PyTorch predict function.')\n",
    "    metrics.report_metric('batch_size', len(imgs))\n",
    "    \n",
    "    img_tensors = []\n",
    "    for img in imgs:\n",
    "        # Create a temp file to write to\n",
    "        tmp = tempfile.NamedTemporaryFile('wb', delete=False, suffix='.jpg')\n",
    "        tmp.write(io.BytesIO(img).getvalue())\n",
    "        tmp.close()\n",
    "        \n",
    "        # Pre-process image\n",
    "        img_tensor = preprocess(PIL.Image.open(tmp.name, 'r'))\n",
    "        img_tensor.unsqueeze_(0)\n",
    "        img_tensors.append(img_tensor)\n",
    "        \n",
    "        os.unlink(tmp.name) \n",
    "        \n",
    "        # Pass image to model\n",
    "    img_batch = torch.cat(img_tensors)\n",
    "    with torch.no_grad():\n",
    "        fc_out = n(img_batch)\n",
    "        \n",
    "        # Parse Result\n",
    "    img_labs = [labels[out.data.numpy().argmax()] for out in fc_out]\n",
    "        \n",
    "        # Delete Temp File\n",
    "        \n",
    "    return img_labs"
   ]
  },
  {
   "cell_type": "code",
   "execution_count": 58,
   "metadata": {},
   "outputs": [
    {
     "name": "stderr",
     "output_type": "stream",
     "text": [
      "18-09-07:02:30:56 INFO     [deployer_utils.py:44] Saving function to /tmp/clipper/tmpsp8yrabt\n",
      "18-09-07:02:30:56 INFO     [deployer_utils.py:54] Serialized and supplied predict function\n",
      "18-09-07:02:31:00 INFO     [pytorch.py:204] Torch model saved\n",
      "18-09-07:02:31:00 INFO     [clipper_admin.py:452] Building model Docker image with model data from /tmp/clipper/tmpsp8yrabt\n",
      "18-09-07:02:31:00 INFO     [clipper_admin.py:456] {'stream': 'Step 1/2 : FROM clipper/pytorch36-container:3c5a1cc6ce'}\n",
      "18-09-07:02:31:00 INFO     [clipper_admin.py:456] {'stream': '\\n'}\n",
      "18-09-07:02:31:00 INFO     [clipper_admin.py:456] {'stream': ' ---> a60b56701add\\n'}\n",
      "18-09-07:02:31:00 INFO     [clipper_admin.py:456] {'stream': 'Step 2/2 : COPY /tmp/clipper/tmpsp8yrabt /model/'}\n",
      "18-09-07:02:31:00 INFO     [clipper_admin.py:456] {'stream': '\\n'}\n",
      "18-09-07:02:31:00 INFO     [clipper_admin.py:456] {'stream': ' ---> 36dd7f7b8e6a\\n'}\n",
      "18-09-07:02:31:00 INFO     [clipper_admin.py:456] {'aux': {'ID': 'sha256:36dd7f7b8e6a46ea4dbc85766a1d7c07ff0271e14cea055211a16418740f34b9'}}\n",
      "18-09-07:02:31:00 INFO     [clipper_admin.py:456] {'stream': 'Successfully built 36dd7f7b8e6a\\n'}\n",
      "18-09-07:02:31:00 INFO     [clipper_admin.py:456] {'stream': 'Successfully tagged pytorch-model:2\\n'}\n",
      "18-09-07:02:31:00 INFO     [clipper_admin.py:458] Pushing model Docker image to pytorch-model:2\n",
      "18-09-07:02:31:01 INFO     [docker_container_manager.py:257] Found 0 replicas for pytorch-model:2. Adding 1\n",
      "18-09-07:02:31:08 INFO     [clipper_admin.py:635] Successfully registered model pytorch-model:2\n",
      "18-09-07:02:31:08 INFO     [clipper_admin.py:553] Done deploying model pytorch-model:2.\n"
     ]
    }
   ],
   "source": [
    "from clipper_admin.deployers import pytorch as pytorch_deployer\n",
    "pytorch_deployer.deploy_pytorch_model(\n",
    "    clipper_conn,\n",
    "    name=\"pytorch-model\", \n",
    "    version=2, \n",
    "    input_type=\"bytes\", \n",
    "    func=predict_torch_model,\n",
    "    pytorch_model=model,\n",
    "    base_image='clipper/pytorch36-container:3c5a1cc6ce'\n",
    ")"
   ]
  },
  {
   "cell_type": "code",
   "execution_count": 62,
   "metadata": {
    "collapsed": true
   },
   "outputs": [
    {
     "name": "stderr",
     "output_type": "stream",
     "text": [
      "18-09-07:02:32:39 INFO     [clipper_admin.py:263] Model pytorch-model is now linked to application squeezenet-classsifier-2\n"
     ]
    }
   ],
   "source": [
    "clipper_conn.link_model_to_app(app_name=\"squeezenet-classsifier-2\", model_name=\"pytorch-model\")"
   ]
  },
  {
   "cell_type": "markdown",
   "metadata": {},
   "source": [
    "In order to initialize Grafana and connect it to Clipper's Prometheus container, we run the following file:"
   ]
  },
  {
   "cell_type": "code",
   "execution_count": 43,
   "metadata": {},
   "outputs": [
    {
     "name": "stdout",
     "output_type": "stream",
     "text": [
      "(1/3) Initializing Grafana\n",
      "^C\n",
      "Stopping Grafana...\n"
     ]
    }
   ],
   "source": [
    "!python init_grafana.py"
   ]
  },
  {
   "cell_type": "code",
   "execution_count": 45,
   "metadata": {},
   "outputs": [],
   "source": [
    "import base64"
   ]
  },
  {
   "cell_type": "code",
   "execution_count": 64,
   "metadata": {
    "collapsed": true
   },
   "outputs": [
    {
     "data": {
      "text/plain": [
       "{'query_id': 10, 'output': 'tabby, tabby cat', 'default': False}"
      ]
     },
     "execution_count": 64,
     "metadata": {},
     "output_type": "execute_result"
    }
   ],
   "source": [
    "import requests, json\n",
    "req_json = json.dumps({\n",
    "        \"input\":\n",
    "        base64.b64encode(open('images/cat.jpg', \"rb\").read()).decode() # bytes to unicode\n",
    "    })\n",
    "\n",
    "response = requests.post(\n",
    "     \"http://%s/%s/predict\" % (clipper_addr, 'squeezenet-classsifier-2'),\n",
    "     headers={\"Content-type\": \"application/json\"},\n",
    "     data=req_json)\n",
    "response.json()"
   ]
  },
  {
   "cell_type": "code",
   "execution_count": null,
   "metadata": {
    "collapsed": true
   },
   "outputs": [],
   "source": [
    "images = ['images/cat.jpg', 'images/dog.jpg']\n",
    "for img in images:\n",
    "    print('Output for', img)\n",
    "    req_json = json.dumps({\n",
    "            \"input\":\n",
    "            base64.b64encode(open(img, \"rb\").read()).decode() # bytes to unicode\n",
    "        })\n",
    "\n",
    "    response = requests.post(\n",
    "         \"http://%s/%s/predict\" % (clipper_addr, 'squeezenet-classifier-2'),\n",
    "         headers={\"Content-type\": \"application/json\"},\n",
    "         data=req_json)\n",
    "    print(response.json())"
   ]
  },
  {
   "cell_type": "markdown",
   "metadata": {},
   "source": [
    "## Example Application - Custom Docker Containers"
   ]
  },
  {
   "cell_type": "markdown",
   "metadata": {},
   "source": [
    "In this final example, we will go over how to create a custom Docker container. Custom Docker containers can be utilized when model containers need outside dependencies to install, or, as is the case with our example, if they need to be installed outside of Python.\n",
    "\n",
    "For this example, we will be using the YoloV3 Real Time Object Detection System to draw bounding boxes for some images. Unlike in our previous examples, YoloV3 does not have a Python API, and must instead be downloaded and compiled using Make. To download the C files, we need to clone the darknet repo - in this case, we will be cloning a special fork made for this project that will give us the bounding box coordinates along with drawing them - and then compile it using Make. In addition, since we are no longer dealing with a Python API, but rather with a C executable, we will see that our predict function will be different.\n",
    "\n",
    "To build our custom Docker Container, we need to create a dockerfile. This dockerfile is called `PyDarknetDockerfile` and is included in the repo. For your convenience, we include the whole code here:\n",
    "```\n",
    "FROM clipper/python36-closure-container:0.3\n",
    "\n",
    "# Install Git\n",
    "RUN apt-get update \\\n",
    "    && apt-get install -y git\n",
    "\n",
    "# Install cURL\n",
    "RUN apt-get install -y curl\n",
    "\n",
    "# Clone Darknet Repo\n",
    "RUN git clone https://github.com/RehanSD/darknet.git\n",
    "\n",
    "# Make Darknet Project\n",
    "RUN cd darknet\n",
    "RUN make -C darknet/\n",
    "\n",
    "#Download Weights\n",
    "RUN curl -o darknet/yolov3.weights https://pjreddie.com/media/files/yolov3.weights\n",
    "\n",
    "COPY containers/python/python_closure_container.py \\\n",
    "       containers/python/container_entry.sh /container/\n",
    "\n",
    "ENTRYPOINT [\"/container/container_entry.sh\", \"py-closure-container\", \"/container/python_closure_container.py\"]\n",
    "```\n",
    "\n",
    "In the following sections, we will break down each part of the file."
   ]
  },
  {
   "cell_type": "markdown",
   "metadata": {},
   "source": [
    "The first line of the file:\n",
    "```\n",
    "FROM clipper/python36-closure-container:0.3\n",
    "\n",
    "LABEL maintainer=\"Dan Crankshaw <dscrankshaw@gmail.com>\"\n",
    "\n",
    "```\n",
    "are required to build the container - they specify a parent container and will flesh out the basic requirements Clipper needs to be able to use the Dockerfile. The second line just lists the author/maintainer.\n",
    "\n",
    "The next couple of lines:\n",
    "```\n",
    "# Install Git\n",
    "RUN apt-get update \\\n",
    "    && apt-get install -y git\n",
    "\n",
    "# Install cURL\n",
    "RUN apt-get install -y curl\n",
    "```\n",
    "install the basic dependencies we need in the container - git to clone the repo, annd curl to download the pretrained yolo model weights.\n",
    "\n",
    "The next few lines:\n",
    "```\n",
    "# Clone Darknet Repo\n",
    "RUN git clone https://github.com/RehanSD/darknet.git\n",
    "\n",
    "# Make Darknet Project\n",
    "RUN cd darknet\n",
    "RUN make -C darknet/\n",
    "\n",
    "#Download Weights\n",
    "RUN curl -o darknet/yolov3.weights https://pjreddie.com/media/files/yolov3.weights\n",
    "```\n",
    "clone the darknet repo, make it, and then download the pretrained model weights.\n",
    "\n",
    "The last few lines:\n",
    "```\n",
    "COPY containers/python/python_closure_container.py \\\n",
    "       containers/python/container_entry.sh /container/\n",
    "\n",
    "ENTRYPOINT [\"/container/container_entry.sh\", \"py-closure-container\", \"/container/python_closure_container.py\"]\n",
    "```\n",
    "copy the Clipper files that will run the container and provide an entry point to the container.\n",
    "\n",
    "After writing this dockerfile, all we have to do is build the image like so:"
   ]
  },
  {
   "cell_type": "code",
   "execution_count": null,
   "metadata": {},
   "outputs": [],
   "source": [
    "!docker build -t clipper/custom-model-image:62fd73f1ca -f PyDarknetDockerfile ."
   ]
  },
  {
   "cell_type": "markdown",
   "metadata": {},
   "source": [
    "### Predict Function\n",
    "Now we build the predict function. We must first deserialize the image that we serialized in our request - similar to how we did in the PyTorch example, and then write it to a file to run darknet on it. Since darknet is a C executable, we must call it using the subprocess API. It is not strictly neccessary to print out the output of calling darknet, but it is useful to have the output for the sake of debugging."
   ]
  },
  {
   "cell_type": "code",
   "execution_count": 69,
   "metadata": {},
   "outputs": [],
   "source": [
    "import os"
   ]
  },
  {
   "cell_type": "code",
   "execution_count": 91,
   "metadata": {
    "collapsed": true
   },
   "outputs": [],
   "source": [
    "import os\n",
    "import subprocess\n",
    "import base64\n",
    "import io\n",
    "import os\n",
    "def yolo_pred(imgs):\n",
    "    import base64\n",
    "    import io\n",
    "    import os\n",
    "    import tempfile\n",
    "    import subprocess\n",
    "#     os.chdir(\"darknet/\")\n",
    "    num_imgs = len(imgs)\n",
    "    ret_coords = []\n",
    "    predict_procs = []\n",
    "    file_names = []\n",
    "    for i in range(num_imgs):\n",
    "        # Create a temp file to write to\n",
    "        tmp = tempfile.NamedTemporaryFile('wb', delete=False, suffix='.jpg')\n",
    "        tmp.write(io.BytesIO(imgs[i]).getvalue())\n",
    "        tmp.close()\n",
    "        file_names.append(tmp.name)\n",
    "    \n",
    "    for file_name in file_names:\n",
    "        process = subprocess.Popen(\n",
    "            ['./darknet',\n",
    "             'detector',\n",
    "             'test',\n",
    "             './cfg/coco.data',\n",
    "             './cfg/yolov3.cfg',\n",
    "             './yolov3.weights',\n",
    "             file_name,\n",
    "             '-json',\n",
    "             '-dont_show',\n",
    "             '-ext_output', '>',\n",
    "             '{}.txt'.format(file_name+'_result')], stdout=subprocess.PIPE)\n",
    "        predict_procs.append(process)\n",
    "        \n",
    "    for process in predict_procs:\n",
    "        process.wait()\n",
    "    \n",
    "    for file_name in file_names:\n",
    "        for line in process.stdout:\n",
    "            print(line)\n",
    "        with open(file_name+'_result.txt', 'r') as myfile:\n",
    "            text = myfile.read()\n",
    "            ret_coords += [text]\n",
    "    return ret_coords"
   ]
  },
  {
   "cell_type": "code",
   "execution_count": 92,
   "metadata": {},
   "outputs": [
    {
     "name": "stderr",
     "output_type": "stream",
     "text": [
      "18-09-07:02:59:48 INFO     [deployer_utils.py:44] Saving function to /tmp/clipper/tmpslq_mawa\n",
      "18-09-07:02:59:48 INFO     [deployer_utils.py:54] Serialized and supplied predict function\n",
      "18-09-07:02:59:48 INFO     [python.py:192] Python closure saved\n",
      "18-09-07:02:59:48 INFO     [clipper_admin.py:452] Building model Docker image with model data from /tmp/clipper/tmpslq_mawa\n",
      "18-09-07:02:59:48 INFO     [clipper_admin.py:456] {'stream': 'Step 1/2 : FROM clipper/custom-model-image:62fd73f1ca'}\n",
      "18-09-07:02:59:48 INFO     [clipper_admin.py:456] {'stream': '\\n'}\n",
      "18-09-07:02:59:48 INFO     [clipper_admin.py:456] {'stream': ' ---> 6668ccaf6e90\\n'}\n",
      "18-09-07:02:59:48 INFO     [clipper_admin.py:456] {'stream': 'Step 2/2 : COPY /tmp/clipper/tmpslq_mawa /model/'}\n",
      "18-09-07:02:59:48 INFO     [clipper_admin.py:456] {'stream': '\\n'}\n",
      "18-09-07:02:59:48 INFO     [clipper_admin.py:456] {'stream': ' ---> 442733c54b0d\\n'}\n",
      "18-09-07:02:59:48 INFO     [clipper_admin.py:456] {'aux': {'ID': 'sha256:442733c54b0d8847efa8c1dd396697a49ba50a7c61f79d81166fffbe38422a5b'}}\n",
      "18-09-07:02:59:48 INFO     [clipper_admin.py:456] {'stream': 'Successfully built 442733c54b0d\\n'}\n",
      "18-09-07:02:59:48 INFO     [clipper_admin.py:456] {'stream': 'Successfully tagged yolov3:4\\n'}\n",
      "18-09-07:02:59:48 INFO     [clipper_admin.py:458] Pushing model Docker image to yolov3:4\n",
      "18-09-07:02:59:49 INFO     [docker_container_manager.py:257] Found 0 replicas for yolov3:4. Adding 1\n",
      "18-09-07:02:59:56 ERROR    [clipper_admin.py:630] Received error status code: 400 and message: model with name 'yolov3' and version '4' already exists\n"
     ]
    },
    {
     "ename": "ClipperException",
     "evalue": "Received error status code: 400 and message: model with name 'yolov3' and version '4' already exists",
     "output_type": "error",
     "traceback": [
      "\u001b[0;31m---------------------------------------------------------------------------\u001b[0m",
      "\u001b[0;31mClipperException\u001b[0m                          Traceback (most recent call last)",
      "\u001b[0;32m<ipython-input-92-17ffe65e2731>\u001b[0m in \u001b[0;36m<module>\u001b[0;34m()\u001b[0m\n\u001b[1;32m      6\u001b[0m     \u001b[0minput_type\u001b[0m\u001b[0;34m=\u001b[0m\u001b[0;34m\"bytes\"\u001b[0m\u001b[0;34m,\u001b[0m  \u001b[0;31m# The type of data the model function expects as input\u001b[0m\u001b[0;34m\u001b[0m\u001b[0m\n\u001b[1;32m      7\u001b[0m     \u001b[0mfunc\u001b[0m\u001b[0;34m=\u001b[0m\u001b[0myolo_pred\u001b[0m\u001b[0;34m,\u001b[0m \u001b[0;31m# The model function to deploy\u001b[0m\u001b[0;34m\u001b[0m\u001b[0m\n\u001b[0;32m----> 8\u001b[0;31m     \u001b[0mbase_image\u001b[0m\u001b[0;34m=\u001b[0m\u001b[0;34m'clipper/custom-model-image:62fd73f1ca'\u001b[0m\u001b[0;34m\u001b[0m\u001b[0m\n\u001b[0m\u001b[1;32m      9\u001b[0m )\n",
      "\u001b[0;32m~/miniconda3/lib/python3.6/site-packages/clipper_admin/deployers/python.py\u001b[0m in \u001b[0;36mdeploy_python_closure\u001b[0;34m(clipper_conn, name, version, input_type, func, base_image, labels, registry, num_replicas, batch_size, pkgs_to_install)\u001b[0m\n\u001b[1;32m    220\u001b[0m     clipper_conn.build_and_deploy_model(\n\u001b[1;32m    221\u001b[0m         \u001b[0mname\u001b[0m\u001b[0;34m,\u001b[0m \u001b[0mversion\u001b[0m\u001b[0;34m,\u001b[0m \u001b[0minput_type\u001b[0m\u001b[0;34m,\u001b[0m \u001b[0mserialization_dir\u001b[0m\u001b[0;34m,\u001b[0m \u001b[0mbase_image\u001b[0m\u001b[0;34m,\u001b[0m \u001b[0mlabels\u001b[0m\u001b[0;34m,\u001b[0m\u001b[0;34m\u001b[0m\u001b[0m\n\u001b[0;32m--> 222\u001b[0;31m         registry, num_replicas, batch_size, pkgs_to_install)\n\u001b[0m\u001b[1;32m    223\u001b[0m     \u001b[0;31m# Remove temp files\u001b[0m\u001b[0;34m\u001b[0m\u001b[0;34m\u001b[0m\u001b[0m\n\u001b[1;32m    224\u001b[0m     \u001b[0mshutil\u001b[0m\u001b[0;34m.\u001b[0m\u001b[0mrmtree\u001b[0m\u001b[0;34m(\u001b[0m\u001b[0mserialization_dir\u001b[0m\u001b[0;34m)\u001b[0m\u001b[0;34m\u001b[0m\u001b[0m\n",
      "\u001b[0;32m~/miniconda3/lib/python3.6/site-packages/clipper_admin/clipper_admin.py\u001b[0m in \u001b[0;36mbuild_and_deploy_model\u001b[0;34m(self, name, version, input_type, model_data_path, base_image, labels, container_registry, num_replicas, batch_size, pkgs_to_install)\u001b[0m\n\u001b[1;32m    336\u001b[0m                                  container_registry, pkgs_to_install)\n\u001b[1;32m    337\u001b[0m         self.deploy_model(name, version, input_type, image, labels,\n\u001b[0;32m--> 338\u001b[0;31m                           num_replicas, batch_size)\n\u001b[0m\u001b[1;32m    339\u001b[0m \u001b[0;34m\u001b[0m\u001b[0m\n\u001b[1;32m    340\u001b[0m     def build_model(self,\n",
      "\u001b[0;32m~/miniconda3/lib/python3.6/site-packages/clipper_admin/clipper_admin.py\u001b[0m in \u001b[0;36mdeploy_model\u001b[0;34m(self, name, version, input_type, image, labels, num_replicas, batch_size)\u001b[0m\n\u001b[1;32m    549\u001b[0m             \u001b[0mimage\u001b[0m\u001b[0;34m=\u001b[0m\u001b[0mimage\u001b[0m\u001b[0;34m,\u001b[0m\u001b[0;34m\u001b[0m\u001b[0m\n\u001b[1;32m    550\u001b[0m             \u001b[0mlabels\u001b[0m\u001b[0;34m=\u001b[0m\u001b[0mlabels\u001b[0m\u001b[0;34m,\u001b[0m\u001b[0;34m\u001b[0m\u001b[0m\n\u001b[0;32m--> 551\u001b[0;31m             batch_size=batch_size)\n\u001b[0m\u001b[1;32m    552\u001b[0m         logger.info(\"Done deploying model {name}:{version}.\".format(\n\u001b[1;32m    553\u001b[0m             name=name, version=version))\n",
      "\u001b[0;32m~/miniconda3/lib/python3.6/site-packages/clipper_admin/clipper_admin.py\u001b[0m in \u001b[0;36mregister_model\u001b[0;34m(self, name, version, input_type, image, labels, batch_size)\u001b[0m\n\u001b[1;32m    629\u001b[0m                 code=r.status_code, msg=r.text)\n\u001b[1;32m    630\u001b[0m             \u001b[0mlogger\u001b[0m\u001b[0;34m.\u001b[0m\u001b[0merror\u001b[0m\u001b[0;34m(\u001b[0m\u001b[0mmsg\u001b[0m\u001b[0;34m)\u001b[0m\u001b[0;34m\u001b[0m\u001b[0m\n\u001b[0;32m--> 631\u001b[0;31m             \u001b[0;32mraise\u001b[0m \u001b[0mClipperException\u001b[0m\u001b[0;34m(\u001b[0m\u001b[0mmsg\u001b[0m\u001b[0;34m)\u001b[0m\u001b[0;34m\u001b[0m\u001b[0m\n\u001b[0m\u001b[1;32m    632\u001b[0m         \u001b[0;32melse\u001b[0m\u001b[0;34m:\u001b[0m\u001b[0;34m\u001b[0m\u001b[0m\n\u001b[1;32m    633\u001b[0m             logger.info(\n",
      "\u001b[0;31mClipperException\u001b[0m: Received error status code: 400 and message: model with name 'yolov3' and version '4' already exists"
     ]
    }
   ],
   "source": [
    "from clipper_admin.deployers import python as python_deployer\n",
    "python_deployer.deploy_python_closure(\n",
    "    clipper_conn,\n",
    "    name=\"yolov3\",  # The name of the model in Clipper\n",
    "    version=4,  # A unique identifier to assign to this model.\n",
    "    input_type=\"bytes\",  # The type of data the model function expects as input\n",
    "    func=yolo_pred, # The model function to deploy\n",
    "    base_image='clipper/custom-model-image:62fd73f1ca'\n",
    ")"
   ]
  },
  {
   "cell_type": "code",
   "execution_count": 94,
   "metadata": {},
   "outputs": [
    {
     "name": "stderr",
     "output_type": "stream",
     "text": [
      "18-09-07:03:01:07 INFO     [clipper_admin.py:201] Application darknet-app-3 was successfully registered\n"
     ]
    }
   ],
   "source": [
    "clipper_conn.register_application(\n",
    "    name=\"darknet-app-3\",\n",
    "    input_type=\"bytes\",\n",
    "    default_output=\"Default\",\n",
    "    slo_micros=5000000)"
   ]
  },
  {
   "cell_type": "code",
   "execution_count": 95,
   "metadata": {},
   "outputs": [
    {
     "name": "stderr",
     "output_type": "stream",
     "text": [
      "18-09-07:03:01:10 INFO     [clipper_admin.py:263] Model yolov3 is now linked to application darknet-app-3\n"
     ]
    }
   ],
   "source": [
    "clipper_conn.link_model_to_app(app_name=\"darknet-app-3\", model_name=\"yolov3\")"
   ]
  },
  {
   "cell_type": "code",
   "execution_count": 97,
   "metadata": {},
   "outputs": [
    {
     "name": "stdout",
     "output_type": "stream",
     "text": [
      "{'query_id': 17, 'output': 'Default', 'default': True, 'default_explanation': 'No connected models found for query'}\n"
     ]
    }
   ],
   "source": [
    "import requests, json\n",
    "url = \"http://%s/darknet-app-3/predict\" % clipper_addr\n",
    "req_json = json.dumps({\n",
    "    \"input\":\n",
    "    base64.b64encode(open('images/dog.jpg', \"rb\").read()).decode() # bytes to unicode\n",
    "})\n",
    "headers = {'Content-type': 'application/json'}\n",
    "r = requests.post(url, headers=headers, data=req_json)\n",
    "print(r.json())"
   ]
  },
  {
   "cell_type": "markdown",
   "metadata": {},
   "source": [
    "## Restarting Clipper\n",
    "If you run into issues and want to completely stop Clipper, you can do this by calling [`ClipperConnection.stop_all()`](http://docs.clipper.ai/en/latest/#clipper_admin.ClipperConnection.stop_all)."
   ]
  },
  {
   "cell_type": "code",
   "execution_count": null,
   "metadata": {},
   "outputs": [],
   "source": [
    "clipper_conn.stop_all()"
   ]
  },
  {
   "cell_type": "markdown",
   "metadata": {},
   "source": [
    "When you list all the Docker containers a final time, you should see that all of the Clipper containers have been stopped."
   ]
  },
  {
   "cell_type": "code",
   "execution_count": null,
   "metadata": {},
   "outputs": [],
   "source": [
    "!docker ps --filter label=ai.clipper.container.label"
   ]
  },
  {
   "cell_type": "markdown",
   "metadata": {},
   "source": [
    "You can now call `clipper_conn.start_clipper()` again without running into errors."
   ]
  }
 ],
 "metadata": {
  "kernelspec": {
   "display_name": "Python 3",
   "language": "python",
   "name": "python3"
  },
  "language_info": {
   "codemirror_mode": {
    "name": "ipython",
    "version": 3
   },
   "file_extension": ".py",
   "mimetype": "text/x-python",
   "name": "python",
   "nbconvert_exporter": "python",
   "pygments_lexer": "ipython3",
   "version": "3.6.6"
  }
 },
 "nbformat": 4,
 "nbformat_minor": 2
}
